{
 "cells": [
  {
   "cell_type": "markdown",
   "id": "c981861e",
   "metadata": {},
   "source": [
    "# Q1\n",
    "Write a code to display a list of the first 12 multiples of 8 using a for loop\n"
   ]
  },
  {
   "cell_type": "code",
   "execution_count": 1,
   "id": "2d5313db",
   "metadata": {},
   "outputs": [
    {
     "name": "stdout",
     "output_type": "stream",
     "text": [
      "[8, 16, 24, 32, 40, 48, 56, 64, 72, 80, 88, 96]\n"
     ]
    }
   ],
   "source": [
    "multiples_8 = []\n",
    "for j in (range(1, 13)):\n",
    "    multiples_8.append(j*8)\n",
    "print(multiples_8)"
   ]
  },
  {
   "cell_type": "markdown",
   "id": "d9f7d0f9",
   "metadata": {},
   "source": [
    "# Q2\n",
    "Write the code to print sum of all even numbers from 1 to 201"
   ]
  },
  {
   "cell_type": "code",
   "execution_count": 2,
   "id": "ac62f690",
   "metadata": {},
   "outputs": [],
   "source": [
    "total = []\n",
    "for i in range(2, 202, 2):\n",
    "    total.append(i)"
   ]
  },
  {
   "cell_type": "code",
   "execution_count": 3,
   "id": "5afe07b2",
   "metadata": {},
   "outputs": [
    {
     "name": "stdout",
     "output_type": "stream",
     "text": [
      "10100\n"
     ]
    }
   ],
   "source": [
    "print(sum(total))"
   ]
  },
  {
   "cell_type": "markdown",
   "id": "4f0f12d7",
   "metadata": {},
   "source": [
    "Q3\n",
    "`my_list = [3, 5, 7, 12, 41]`\n",
    "\n",
    "Write the code to display the list of the squares of each number in my list\n",
    "\n",
    "- Without using list comprehension\n",
    "- Using list comprehension\n"
   ]
  },
  {
   "cell_type": "code",
   "execution_count": 4,
   "id": "1c6dc417",
   "metadata": {},
   "outputs": [
    {
     "name": "stdout",
     "output_type": "stream",
     "text": [
      "[9, 25, 49, 144, 1681]\n"
     ]
    }
   ],
   "source": [
    "#Without using list comprehension\n",
    "my_list = [3, 5, 7, 12, 41]\n",
    "squares_list = []\n",
    "\n",
    "for num in my_list:\n",
    "    square = num ** 2\n",
    "    squares_list.append(square)\n",
    "\n",
    "print(squares_list)"
   ]
  },
  {
   "cell_type": "code",
   "execution_count": 5,
   "id": "e68bc3fd",
   "metadata": {},
   "outputs": [
    {
     "name": "stdout",
     "output_type": "stream",
     "text": [
      "[9, 25, 49, 144, 1681]\n"
     ]
    }
   ],
   "source": [
    "#Using list comprehension\n",
    "my_list = [3, 5, 7, 12, 41]\n",
    "squares_list = [num**2 for num in my_list]\n",
    "\n",
    "print(squares_list)"
   ]
  },
  {
   "cell_type": "markdown",
   "id": "28bed149",
   "metadata": {},
   "source": [
    "# Q4\n",
    "`my_list1 = [3, 53,47, 22, 53, 78, 12, 41]`\n",
    "\n",
    "Calculate the average of my_list1\n",
    "\n",
    "- Without using sum and len fucnctions\n",
    "- Using sum and len functions\n"
   ]
  },
  {
   "cell_type": "code",
   "execution_count": 6,
   "id": "4e3a6840",
   "metadata": {},
   "outputs": [
    {
     "name": "stdout",
     "output_type": "stream",
     "text": [
      "The average of my_list1 is: 38.625\n"
     ]
    }
   ],
   "source": [
    "#Without using sum and len fucnctions\n",
    "my_list1 = [3, 53,47, 22, 53, 78, 12, 41]\n",
    "list_sum = 0\n",
    "list_length = 0\n",
    "for num in my_list1:\n",
    "    list_sum += num\n",
    "    list_length += 1\n",
    "average = list_sum / list_length\n",
    "print(\"The average of my_list1 is:\", average)"
   ]
  },
  {
   "cell_type": "markdown",
   "id": "38c1ddff",
   "metadata": {},
   "source": [
    "# Q4\n",
    "\n",
    "Write a Python program to guess a number between 1 and 9.\n",
    "User is prompted to enter a guess. If the user guesses wrong then the prompt appears again until the guess is correct, on successful guess, user will get a \"Well guessed!\" message, and the program will exit."
   ]
  },
  {
   "cell_type": "code",
   "execution_count": null,
   "id": "67931ee0",
   "metadata": {},
   "outputs": [],
   "source": [
    "for i in range(1,10):\n",
    "    i= int(input(\"Please guess a number between 1 to 9:\"))\n",
    "    if i<= 9:\n",
    "        print(\"WOW! Well Guessed\")\n",
    "        break;\n",
    "    i=i+1"
   ]
  },
  {
   "cell_type": "code",
   "execution_count": null,
   "id": "2fccf884",
   "metadata": {},
   "outputs": [],
   "source": [
    "import random\n",
    "random_num = random.randint(1, 9)\n",
    "guess = None\n",
    "while guess != random_num:\n",
    "    guess = int(input(\"Guess a number between 1 and 9: \"))\n",
    "    if guess == random_num:\n",
    "        print(\"Well guessed!\")\n",
    "    else:\n",
    "        print(\"Sorry, that's not correct. Please try again.\")"
   ]
  },
  {
   "cell_type": "code",
   "execution_count": null,
   "id": "e343ce88",
   "metadata": {},
   "outputs": [],
   "source": [
    "user = int(input(\"Guess a number: \"))\n",
    "for number in range(1,9):\n",
    "    if 1 >= number < 9:\n",
    "        print(\"Well guessed!\")\n",
    "        break\n",
    "    if number > 9:\n",
    "        print(\"Try again!\")"
   ]
  },
  {
   "cell_type": "markdown",
   "id": "f5c02baa",
   "metadata": {},
   "source": [
    "# Q5\n",
    "Write a Python program to construct the following pattern.\n",
    "\n",
    "`*` \n",
    "\n",
    "`* *` \n",
    "\n",
    "`* * *` \n",
    "\n",
    "`* * * *` \n",
    "\n",
    "`* * * * *`"
   ]
  },
  {
   "cell_type": "code",
   "execution_count": null,
   "id": "60cefd86",
   "metadata": {},
   "outputs": [],
   "source": [
    "n = 5  \n",
    "for i in range(n):\n",
    "    for j in range(i+1):\n",
    "        print(\"*\", end=\" \")\n",
    "    print()"
   ]
  },
  {
   "cell_type": "markdown",
   "id": "e85d94df",
   "metadata": {},
   "source": [
    "# Q6\n",
    "\n",
    "Write a Python program that accepts a word from the user and reverses it."
   ]
  },
  {
   "cell_type": "code",
   "execution_count": null,
   "id": "922603f8",
   "metadata": {},
   "outputs": [],
   "source": [
    "the_input = input(\"Enter string: \")\n",
    "reversed = the_input[::-1]\n",
    "print(reversed)"
   ]
  },
  {
   "cell_type": "code",
   "execution_count": null,
   "id": "e84e2515",
   "metadata": {},
   "outputs": [],
   "source": [
    "word = input(\"Input a word to reverse: \")\n",
    "for char in range(len(word) - 1, -1, -1):\n",
    "    print(word[char], end=\"\")\n",
    "print(\"\\n\")"
   ]
  },
  {
   "cell_type": "markdown",
   "id": "5fe06511",
   "metadata": {},
   "source": [
    "# Q7\n",
    "Write a Python program that accepts a word from the user and reverses it."
   ]
  },
  {
   "cell_type": "markdown",
   "id": "5a99d4b3",
   "metadata": {},
   "source": [
    "# Q8\n",
    "\n",
    "`lst = [3,4,5,4,7,8,5,8,3,6,8,9,11]`\n",
    "\n",
    "Write a Python program to count the number of even and odd numbers in the above list of numbers.\n",
    "\n",
    "**Expected output should be in this format**\n",
    "\n",
    "{\"Even\" : num_of_even, \"Odd\": num_of_odd}"
   ]
  },
  {
   "cell_type": "code",
   "execution_count": null,
   "id": "d2425d5a",
   "metadata": {},
   "outputs": [],
   "source": [
    "numbers = [3,4,5,4,7,8,5,8,3,6,8,9,11]\n",
    "count_odd = 0\n",
    "count_even = 0\n",
    "for x in numbers:\n",
    "        if not x % 2:\n",
    "            count_even+=1\n",
    "        else:\n",
    "             count_odd+=1\n",
    "print(\"Number of even numbers :\",count_even)\n",
    "print(\"Number of odd numbers :\",count_odd)"
   ]
  },
  {
   "cell_type": "markdown",
   "id": "c92b54f9",
   "metadata": {},
   "source": [
    "# Q9\n",
    " Write a Python program that iterates the integers from 1 to 50. For multiples of three print \"Fizz\" instead of the number and for multiples of five print \"Buzz\". For numbers that are multiples of three and five, print \"FizzBuzz\".\n",
    "Sample Output :\n",
    "1\n",
    "\n",
    "2\n",
    "\n",
    "fizz\n",
    "\n",
    "4\n",
    "\n",
    "buzz"
   ]
  },
  {
   "cell_type": "code",
   "execution_count": null,
   "id": "b1ad188e",
   "metadata": {
    "scrolled": true
   },
   "outputs": [],
   "source": [
    "for fizzbuzz in range(1,51):\n",
    "    if fizzbuzz % 3 == 0 and fizzbuzz % 5 == 0:\n",
    "        print(\"fizzbuzz\")\n",
    "        continue\n",
    "    elif fizzbuzz % 3 == 0:\n",
    "        print(\"fizz\")\n",
    "        continue\n",
    "    elif fizzbuzz % 5 == 0:\n",
    "        print(\"buzz\")\n",
    "        continue\n",
    "    print(fizzbuzz)"
   ]
  },
  {
   "cell_type": "markdown",
   "id": "8d3505cf",
   "metadata": {},
   "source": [
    "# Q10\n",
    " Write a Python program to find the median of three values inputs from the user"
   ]
  },
  {
   "cell_type": "code",
   "execution_count": null,
   "id": "70b72741",
   "metadata": {},
   "outputs": [],
   "source": [
    "a = int(input(\"Input first number: \"))\n",
    "b = int(input(\"Input second number: \"))\n",
    "c = int(input(\"Input third number: \"))\n",
    "if a > b:\n",
    "    if a < c:\n",
    "        median = a\n",
    "    elif b > c:\n",
    "        median = b\n",
    "    else:\n",
    "        median = c\n",
    "else:\n",
    "    if a > c:\n",
    "        median = a\n",
    "    elif b < c:\n",
    "        median = b\n",
    "    else:\n",
    "        median = c\n",
    "\n"
   ]
  },
  {
   "cell_type": "code",
   "execution_count": null,
   "id": "d2409bf8",
   "metadata": {},
   "outputs": [],
   "source": [
    "a = int(input(\"Enter first number: \"))\n",
    "b = int(input(\"Enter second number: \"))\n",
    "c = int(input(\"Enter third number: \"))\n",
    "if(b>a and a>c or c>a and a>b):\n",
    "    print(a, \" is median\")\n",
    "if(a>b and b>c or c>b and b>a):\n",
    "    print(b, \"is median\")\n",
    "if(a>c and c>b or b>c and c>a):\n",
    "    print(c, \"is median\")"
   ]
  },
  {
   "cell_type": "markdown",
   "id": "9ef4f8a2",
   "metadata": {},
   "source": [
    "# Q11\n",
    "Write a Python program to calculate the sum and average of n integer numbers (input from the user). Input 0 to finish."
   ]
  },
  {
   "cell_type": "code",
   "execution_count": null,
   "id": "220ab1c5",
   "metadata": {},
   "outputs": [],
   "source": [
    "print(\"Input some integers to calculate their sum and average. Input 0 to exit.\")\n",
    "count = 0\n",
    "sum = 0.0\n",
    "number = 1\n",
    "\n",
    "while number != 0:\n",
    "    number = int(input(\"\"))\n",
    "    sum = sum + number\n",
    "    count += 1\n",
    "if count == 0:\n",
    "    print(\"Input some numbers\")\n",
    "else:\n",
    "    print(\"Average and Sum of the above numbers are: \", sum / (count-1), sum)"
   ]
  },
  {
   "cell_type": "markdown",
   "id": "45f5c335",
   "metadata": {},
   "source": [
    "# Q12\n",
    " Write a Python program to create the multiplication table (from 1 to 12) of a number input from a user.\n",
    " \n",
    " Expected Output:\n",
    "\n",
    "Input a number: 6                                                       \n",
    "6 x 1 = 6                                                               \n",
    "6 x 2 = 12                                                              \n",
    "6 x 3 = 18                                                              \n",
    "6 x 4 = 24                                                              \n",
    "6 x 5 = 30                                                              \n",
    "6 x 6 = 36                                                              \n",
    "6 x 7 = 42                                                              \n",
    "6 x 8 = 48                                                              \n",
    "6 x 9 = 54                                                              \n",
    "6 x 10 = 60 \n",
    "\n",
    "6 x 11 = 66\n",
    "\n",
    "6 x 12 = 72"
   ]
  },
  {
   "cell_type": "code",
   "execution_count": null,
   "id": "e870e2fe",
   "metadata": {},
   "outputs": [],
   "source": [
    "users = int(input(\"Input a number : \"))\n",
    "count = 0\n",
    "num = users\n",
    "while True:\n",
    "    count+= 1\n",
    "    a = num * count\n",
    "    print(f\"{num} X {count} = {a}\")\n",
    "    if count == 12:\n",
    "        break"
   ]
  },
  {
   "cell_type": "markdown",
   "id": "8cc97048",
   "metadata": {},
   "source": [
    "# Q13\n",
    "Write a Python program to construct the following pattern\n",
    "\n",
    "1\n",
    "\n",
    "22\n",
    "\n",
    "333\n",
    "\n",
    "4444\n",
    "\n",
    "55555\n",
    "\n",
    "666666\n",
    "\n",
    "7777777\n",
    "\n",
    "88888888\n",
    "\n",
    "999999999"
   ]
  },
  {
   "cell_type": "code",
   "execution_count": null,
   "id": "cbb68c62",
   "metadata": {},
   "outputs": [],
   "source": [
    "for a in range(1, 10):\n",
    "    for b in range(a):\n",
    "        print(a, end=\"\")\n",
    "    print()"
   ]
  },
  {
   "cell_type": "markdown",
   "id": "adef967a",
   "metadata": {},
   "source": [
    "# Q14\n",
    "Print sum of all odd numbers from 10 to 50"
   ]
  },
  {
   "cell_type": "code",
   "execution_count": null,
   "id": "2994655c",
   "metadata": {},
   "outputs": [],
   "source": [
    "total_odd = []\n",
    "for num in range(10, 51):\n",
    "    if num%2 == 1:\n",
    "        total_odd.append(num)\n",
    "print(\"The sum of all odd numbers from 10 to 50 is:\",sum(total_odd))"
   ]
  },
  {
   "cell_type": "markdown",
   "id": "1642ec1a",
   "metadata": {},
   "source": [
    "# Q15\n",
    "\n",
    "`my_list = [25, 100, 121, 400, 81]`\n",
    "\n",
    "Write the code to display the list of the square root of each number in my list\n",
    "\n",
    "- Without using list comprehension\n",
    "- Using list comprehension"
   ]
  },
  {
   "cell_type": "code",
   "execution_count": null,
   "id": "be3f0615",
   "metadata": {},
   "outputs": [],
   "source": [
    "my_list = [25, 100, 121, 400, 81]\n",
    "sq_root = [a**0.5 for a in my_list]\n",
    "print(sq_root)"
   ]
  },
  {
   "cell_type": "code",
   "execution_count": null,
   "id": "9129fe03",
   "metadata": {},
   "outputs": [],
   "source": [
    "square_roots = []\n",
    "for nums in my_list:\n",
    "    nums = nums ** 0.5\n",
    "    square_roots.append(nums)\n",
    "print(square_roots)"
   ]
  }
 ],
 "metadata": {
  "kernelspec": {
   "display_name": "Python 3 (ipykernel)",
   "language": "python",
   "name": "python3"
  },
  "language_info": {
   "codemirror_mode": {
    "name": "ipython",
    "version": 3
   },
   "file_extension": ".py",
   "mimetype": "text/x-python",
   "name": "python",
   "nbconvert_exporter": "python",
   "pygments_lexer": "ipython3",
   "version": "3.9.12"
  }
 },
 "nbformat": 4,
 "nbformat_minor": 5
}
