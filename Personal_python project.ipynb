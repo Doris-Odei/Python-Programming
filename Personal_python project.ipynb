{
 "cells": [
  {
   "cell_type": "markdown",
   "id": "8fa7ca46",
   "metadata": {},
   "source": [
    "Glassdoor Dataset Analysis of Data Science Job Postings"
   ]
  },
  {
   "cell_type": "markdown",
   "id": "87dcdafd",
   "metadata": {},
   "source": [
    "Problem Statement\n",
    "Glassdoor, a leading online job search and career community, has consulted with me, a data analyst, to analyze data science job postings in order to provide useful insights for aspiring data scientists. As a platform that connects job seekers with potential employers, Glassdoor recognizes the importance of understanding trends and patterns in the job market. Through this analysis, I will aim to identify the following key factors that are relevant to job seekers in the data science field:\n",
    "\n",
    "•\tWhat are the top industries hiring data scientists?\n",
    "•\tWhat are the average salaries for data scientists across different industries?\n",
    "•\tWhich locations offer the most job opportunities for data scientists?\n",
    "•\tWhat are the required skills and qualifications for a data scientist?\n",
    "•\tWhat are the most common job titles for data scientists?\n",
    "•\tWhat are the most in-demand programming languages for data science?\n",
    "•\tWhat are the top companies hiring data scientists?\n",
    "•\tIs there a correlation between job location and required skills?\n",
    "\n",
    "I hope this provide aspiring data scientists with the information they need to make informed decisions about their careers and job search strategies. "
   ]
  },
  {
   "cell_type": "markdown",
   "id": "d0f38dcb",
   "metadata": {},
   "source": [
    " Importing the required libraries for data analysis"
   ]
  },
  {
   "cell_type": "code",
   "execution_count": 120,
   "id": "34d03e80",
   "metadata": {},
   "outputs": [],
   "source": [
    "import pandas as pd\n",
    "import numpy as np\n",
    "from scipy import stats\n",
    "import matplotlib.pyplot as plt\n",
    "import seaborn as sns "
   ]
  },
  {
   "cell_type": "markdown",
   "id": "d34587a6",
   "metadata": {},
   "source": [
    "Loading data into the kernel"
   ]
  },
  {
   "cell_type": "code",
   "execution_count": 2,
   "id": "13a45d34",
   "metadata": {},
   "outputs": [],
   "source": [
    "data = pd.read_csv(\"DS_Jobs.csv\", encoding = \"latin-1\")"
   ]
  },
  {
   "cell_type": "markdown",
   "id": "f90fbf9f",
   "metadata": {},
   "source": [
    "Making a copy of the data"
   ]
  },
  {
   "cell_type": "code",
   "execution_count": 3,
   "id": "ca1a4f9e",
   "metadata": {},
   "outputs": [],
   "source": [
    "copy_DS_Jobs = data.copy()"
   ]
  },
  {
   "cell_type": "markdown",
   "id": "8933cb8e",
   "metadata": {},
   "source": [
    "Checking for the shape of the data"
   ]
  },
  {
   "cell_type": "code",
   "execution_count": 4,
   "id": "11139d30",
   "metadata": {},
   "outputs": [
    {
     "data": {
      "text/plain": [
       "(672, 15)"
      ]
     },
     "execution_count": 4,
     "metadata": {},
     "output_type": "execute_result"
    }
   ],
   "source": [
    "data.shape"
   ]
  },
  {
   "cell_type": "markdown",
   "id": "a0e370f0",
   "metadata": {},
   "source": [
    "Checking the size of the data"
   ]
  },
  {
   "cell_type": "code",
   "execution_count": 5,
   "id": "2d4d2843",
   "metadata": {},
   "outputs": [
    {
     "data": {
      "text/plain": [
       "10080"
      ]
     },
     "execution_count": 5,
     "metadata": {},
     "output_type": "execute_result"
    }
   ],
   "source": [
    "data.size"
   ]
  },
  {
   "cell_type": "markdown",
   "id": "ff70cd86",
   "metadata": {},
   "source": [
    "Checking for available columns in the data"
   ]
  },
  {
   "cell_type": "code",
   "execution_count": 6,
   "id": "6a184f5b",
   "metadata": {},
   "outputs": [
    {
     "data": {
      "text/plain": [
       "Index(['index', 'Job Title', 'Salary Estimate', 'Job Description', 'Rating',\n",
       "       'Company Name', 'Location', 'Headquarters', 'Size', 'Founded',\n",
       "       'Type of ownership', 'Industry', 'Sector', 'Revenue', 'Competitors'],\n",
       "      dtype='object')"
      ]
     },
     "execution_count": 6,
     "metadata": {},
     "output_type": "execute_result"
    }
   ],
   "source": [
    "data.columns"
   ]
  },
  {
   "cell_type": "markdown",
   "id": "633a8e4a",
   "metadata": {},
   "source": [
    "Checking for null values in the data"
   ]
  },
  {
   "cell_type": "code",
   "execution_count": 7,
   "id": "295e6db7",
   "metadata": {
    "scrolled": true
   },
   "outputs": [
    {
     "name": "stdout",
     "output_type": "stream",
     "text": [
      "<class 'pandas.core.frame.DataFrame'>\n",
      "RangeIndex: 672 entries, 0 to 671\n",
      "Data columns (total 15 columns):\n",
      " #   Column             Non-Null Count  Dtype \n",
      "---  ------             --------------  ----- \n",
      " 0   index              672 non-null    int64 \n",
      " 1   Job Title          672 non-null    object\n",
      " 2   Salary Estimate    672 non-null    object\n",
      " 3   Job Description    672 non-null    object\n",
      " 4   Rating             672 non-null    object\n",
      " 5   Company Name       672 non-null    object\n",
      " 6   Location           672 non-null    object\n",
      " 7   Headquarters       672 non-null    object\n",
      " 8   Size               672 non-null    object\n",
      " 9   Founded            672 non-null    object\n",
      " 10  Type of ownership  672 non-null    object\n",
      " 11  Industry           672 non-null    object\n",
      " 12  Sector             672 non-null    object\n",
      " 13  Revenue            672 non-null    object\n",
      " 14  Competitors        672 non-null    object\n",
      "dtypes: int64(1), object(14)\n",
      "memory usage: 78.9+ KB\n"
     ]
    }
   ],
   "source": [
    "data.info()"
   ]
  },
  {
   "cell_type": "code",
   "execution_count": 8,
   "id": "c3a1699c",
   "metadata": {
    "scrolled": true
   },
   "outputs": [
    {
     "data": {
      "text/plain": [
       "index                0\n",
       "Job Title            0\n",
       "Salary Estimate      0\n",
       "Job Description      0\n",
       "Rating               0\n",
       "Company Name         0\n",
       "Location             0\n",
       "Headquarters         0\n",
       "Size                 0\n",
       "Founded              0\n",
       "Type of ownership    0\n",
       "Industry             0\n",
       "Sector               0\n",
       "Revenue              0\n",
       "Competitors          0\n",
       "dtype: int64"
      ]
     },
     "execution_count": 8,
     "metadata": {},
     "output_type": "execute_result"
    }
   ],
   "source": [
    "data.isnull().sum()"
   ]
  },
  {
   "cell_type": "markdown",
   "id": "d3bfd38e",
   "metadata": {},
   "source": [
    "Correlation matrix of numerical columns in the dataset"
   ]
  },
  {
   "cell_type": "code",
   "execution_count": 9,
   "id": "e5cb4137",
   "metadata": {
    "scrolled": true
   },
   "outputs": [
    {
     "data": {
      "text/html": [
       "<div>\n",
       "<style scoped>\n",
       "    .dataframe tbody tr th:only-of-type {\n",
       "        vertical-align: middle;\n",
       "    }\n",
       "\n",
       "    .dataframe tbody tr th {\n",
       "        vertical-align: top;\n",
       "    }\n",
       "\n",
       "    .dataframe thead th {\n",
       "        text-align: right;\n",
       "    }\n",
       "</style>\n",
       "<table border=\"1\" class=\"dataframe\">\n",
       "  <thead>\n",
       "    <tr style=\"text-align: right;\">\n",
       "      <th></th>\n",
       "      <th>index</th>\n",
       "    </tr>\n",
       "  </thead>\n",
       "  <tbody>\n",
       "    <tr>\n",
       "      <th>index</th>\n",
       "      <td>1.0</td>\n",
       "    </tr>\n",
       "  </tbody>\n",
       "</table>\n",
       "</div>"
      ],
      "text/plain": [
       "       index\n",
       "index    1.0"
      ]
     },
     "execution_count": 9,
     "metadata": {},
     "output_type": "execute_result"
    }
   ],
   "source": [
    "data.corr()"
   ]
  },
  {
   "cell_type": "markdown",
   "id": "f8bf3992",
   "metadata": {},
   "source": [
    "A correlation coefficient of 1.0 means that there is a perfect positive correlation between the numeric columns. "
   ]
  },
  {
   "cell_type": "markdown",
   "id": "b7164241",
   "metadata": {},
   "source": [
    "Checking for available columns in the data"
   ]
  },
  {
   "cell_type": "code",
   "execution_count": 10,
   "id": "d1331ef6",
   "metadata": {},
   "outputs": [
    {
     "data": {
      "text/plain": [
       "Index(['index', 'Job Title', 'Salary Estimate', 'Job Description', 'Rating',\n",
       "       'Company Name', 'Location', 'Headquarters', 'Size', 'Founded',\n",
       "       'Type of ownership', 'Industry', 'Sector', 'Revenue', 'Competitors'],\n",
       "      dtype='object')"
      ]
     },
     "execution_count": 10,
     "metadata": {},
     "output_type": "execute_result"
    }
   ],
   "source": [
    "data.columns"
   ]
  },
  {
   "cell_type": "markdown",
   "id": "9a0177be",
   "metadata": {},
   "source": [
    "Count of unique salary estimates in the 'Salary Estimate' column"
   ]
  },
  {
   "cell_type": "code",
   "execution_count": 11,
   "id": "5e02d8de",
   "metadata": {
    "scrolled": false
   },
   "outputs": [
    {
     "data": {
      "text/plain": [
       "$79K-$131K (Glassdoor est.)     32\n",
       "$99K-$132K (Glassdoor est.)     32\n",
       "$75K-$131K (Glassdoor est.)     32\n",
       "$137K-$171K (Glassdoor est.)    30\n",
       "$90K-$109K (Glassdoor est.)     30\n",
       "$56K-$97K (Glassdoor est.)      22\n",
       "$79K-$106K (Glassdoor est.)     22\n",
       "$90K-$124K (Glassdoor est.)     22\n",
       "$110K-$163K (Glassdoor est.)    21\n",
       "$92K-$155K (Glassdoor est.)     21\n",
       "$138K-$158K (Glassdoor est.)    21\n",
       "$128K-$201K (Glassdoor est.)    21\n",
       "$212K-$331K (Glassdoor est.)    21\n",
       "$95K-$119K (Glassdoor est.)     21\n",
       "$69K-$116K (Glassdoor est.)     21\n",
       "$124K-$198K (Glassdoor est.)    21\n",
       "$112K-$116K (Glassdoor est.)    21\n",
       "$122K-$146K (Glassdoor est.)    21\n",
       "$91K-$150K (Glassdoor est.)     21\n",
       "$101K-$165K (Glassdoor est.)    21\n",
       "$79K-$147K (Glassdoor est.)     20\n",
       "$31K-$56K (Glassdoor est.)      20\n",
       "$145K-$225K(Employer est.)      20\n",
       "$141K-$225K (Glassdoor est.)    20\n",
       "$66K-$112K (Glassdoor est.)     20\n",
       "$80K-$132K (Glassdoor est.)     20\n",
       "$87K-$141K (Glassdoor est.)     20\n",
       "$105K-$167K (Glassdoor est.)    20\n",
       "$79K-$133K (Glassdoor est.)     19\n",
       "$71K-$123K (Glassdoor est.)     19\n",
       "Name: Salary Estimate, dtype: int64"
      ]
     },
     "execution_count": 11,
     "metadata": {},
     "output_type": "execute_result"
    }
   ],
   "source": [
    "data['Salary Estimate'].value_counts()"
   ]
  },
  {
   "cell_type": "markdown",
   "id": "aad85620",
   "metadata": {},
   "source": [
    "Checking for  Data type of 'Salary Estimate' column "
   ]
  },
  {
   "cell_type": "code",
   "execution_count": 12,
   "id": "62f51437",
   "metadata": {},
   "outputs": [
    {
     "data": {
      "text/plain": [
       "dtype('O')"
      ]
     },
     "execution_count": 12,
     "metadata": {},
     "output_type": "execute_result"
    }
   ],
   "source": [
    "data['Salary Estimate'].dtype "
   ]
  },
  {
   "cell_type": "code",
   "execution_count": 13,
   "id": "0abab586",
   "metadata": {},
   "outputs": [
    {
     "data": {
      "text/html": [
       "<div>\n",
       "<style scoped>\n",
       "    .dataframe tbody tr th:only-of-type {\n",
       "        vertical-align: middle;\n",
       "    }\n",
       "\n",
       "    .dataframe tbody tr th {\n",
       "        vertical-align: top;\n",
       "    }\n",
       "\n",
       "    .dataframe thead th {\n",
       "        text-align: right;\n",
       "    }\n",
       "</style>\n",
       "<table border=\"1\" class=\"dataframe\">\n",
       "  <thead>\n",
       "    <tr style=\"text-align: right;\">\n",
       "      <th></th>\n",
       "      <th>index</th>\n",
       "      <th>Job Title</th>\n",
       "      <th>Salary Estimate</th>\n",
       "      <th>Job Description</th>\n",
       "      <th>Rating</th>\n",
       "      <th>Company Name</th>\n",
       "      <th>Location</th>\n",
       "      <th>Headquarters</th>\n",
       "      <th>Size</th>\n",
       "      <th>Founded</th>\n",
       "      <th>Type of ownership</th>\n",
       "      <th>Industry</th>\n",
       "      <th>Sector</th>\n",
       "      <th>Revenue</th>\n",
       "      <th>Competitors</th>\n",
       "    </tr>\n",
       "  </thead>\n",
       "  <tbody>\n",
       "    <tr>\n",
       "      <th>0</th>\n",
       "      <td>0</td>\n",
       "      <td>Sr Data Scientist</td>\n",
       "      <td>$137K-$171K (Glassdoor est.)</td>\n",
       "      <td>Description\\n\\nThe Senior Data Scientist is re...</td>\n",
       "      <td>3.1</td>\n",
       "      <td>Healthfirst\\n3.1</td>\n",
       "      <td>New York, NY</td>\n",
       "      <td>New York, NY</td>\n",
       "      <td>1001 to 5000 employees</td>\n",
       "      <td>1993</td>\n",
       "      <td>Nonprofit Organization</td>\n",
       "      <td>Insurance Carriers</td>\n",
       "      <td>Insurance</td>\n",
       "      <td>$1 to $2 billion (USD)</td>\n",
       "      <td>EmblemHealth, UnitedHealth Group, Aetna</td>\n",
       "    </tr>\n",
       "    <tr>\n",
       "      <th>1</th>\n",
       "      <td>1</td>\n",
       "      <td>Data Scientist</td>\n",
       "      <td>$137K-$171K (Glassdoor est.)</td>\n",
       "      <td>Secure our Nation, Ignite your Future\\n\\nJoin ...</td>\n",
       "      <td>4.2</td>\n",
       "      <td>ManTech\\n4.2</td>\n",
       "      <td>Chantilly, VA</td>\n",
       "      <td>Herndon, VA</td>\n",
       "      <td>5001 to 10000 employees</td>\n",
       "      <td>1968</td>\n",
       "      <td>Company - Public</td>\n",
       "      <td>Research &amp; Development</td>\n",
       "      <td>Business Services</td>\n",
       "      <td>$1 to $2 billion (USD)</td>\n",
       "      <td>$100 to $500 million (USD)</td>\n",
       "    </tr>\n",
       "    <tr>\n",
       "      <th>2</th>\n",
       "      <td>2</td>\n",
       "      <td>Data Scientist</td>\n",
       "      <td>$137K-$171K (Glassdoor est.)</td>\n",
       "      <td>Overview\\n\\n\\nAnalysis Group is one of the lar...</td>\n",
       "      <td>3.8</td>\n",
       "      <td>Analysis Group\\n3.8</td>\n",
       "      <td>Boston, MA</td>\n",
       "      <td>Boston, MA</td>\n",
       "      <td>1001 to 5000 employees</td>\n",
       "      <td>1981</td>\n",
       "      <td>Private Practice / Firm</td>\n",
       "      <td>Consulting</td>\n",
       "      <td>Business Services</td>\n",
       "      <td>$100 to $500 million (USD)</td>\n",
       "      <td>$100 to $500 million (USD)</td>\n",
       "    </tr>\n",
       "    <tr>\n",
       "      <th>3</th>\n",
       "      <td>3</td>\n",
       "      <td>Data Scientist</td>\n",
       "      <td>$137K-$171K (Glassdoor est.)</td>\n",
       "      <td>JOB DESCRIPTION:\\n\\nDo you have a passion for ...</td>\n",
       "      <td>3.5</td>\n",
       "      <td>INFICON\\n3.5</td>\n",
       "      <td>Newton, MA</td>\n",
       "      <td>Bad Ragaz, Switzerland</td>\n",
       "      <td>501 to 1000 employees</td>\n",
       "      <td>2000</td>\n",
       "      <td>Company - Public</td>\n",
       "      <td>Electrical &amp; Electronic Manufacturing</td>\n",
       "      <td>Manufacturing</td>\n",
       "      <td>$100 to $500 million (USD)</td>\n",
       "      <td>MKS Instruments, Pfeiffer Vacuum, Agilent Tech...</td>\n",
       "    </tr>\n",
       "    <tr>\n",
       "      <th>4</th>\n",
       "      <td>4</td>\n",
       "      <td>Data Scientist</td>\n",
       "      <td>$137K-$171K (Glassdoor est.)</td>\n",
       "      <td>Data Scientist\\nAffinity Solutions / Marketing...</td>\n",
       "      <td>2.9</td>\n",
       "      <td>Affinity Solutions\\n2.9</td>\n",
       "      <td>New York, NY</td>\n",
       "      <td>New York, NY</td>\n",
       "      <td>51 to 200 employees</td>\n",
       "      <td>1998</td>\n",
       "      <td>Company - Private</td>\n",
       "      <td>Advertising &amp; Marketing</td>\n",
       "      <td>Business Services</td>\n",
       "      <td>$1 to $2 billion (USD)</td>\n",
       "      <td>Commerce Signals, Cardlytics, Yodlee</td>\n",
       "    </tr>\n",
       "    <tr>\n",
       "      <th>...</th>\n",
       "      <td>...</td>\n",
       "      <td>...</td>\n",
       "      <td>...</td>\n",
       "      <td>...</td>\n",
       "      <td>...</td>\n",
       "      <td>...</td>\n",
       "      <td>...</td>\n",
       "      <td>...</td>\n",
       "      <td>...</td>\n",
       "      <td>...</td>\n",
       "      <td>...</td>\n",
       "      <td>...</td>\n",
       "      <td>...</td>\n",
       "      <td>...</td>\n",
       "      <td>...</td>\n",
       "    </tr>\n",
       "    <tr>\n",
       "      <th>667</th>\n",
       "      <td>667</td>\n",
       "      <td>Data Scientist</td>\n",
       "      <td>$105K-$167K (Glassdoor est.)</td>\n",
       "      <td>Summary\\n\\nWeâre looking for a data scientis...</td>\n",
       "      <td>3.6</td>\n",
       "      <td>TRANZACT\\n3.6</td>\n",
       "      <td>Fort Lee, NJ</td>\n",
       "      <td>Fort Lee, NJ</td>\n",
       "      <td>1001 to 5000 employees</td>\n",
       "      <td>1989</td>\n",
       "      <td>Company - Private</td>\n",
       "      <td>Advertising &amp; Marketing</td>\n",
       "      <td>Business Services</td>\n",
       "      <td>$1 to $2 billion (USD)</td>\n",
       "      <td>$100 to $500 million (USD)</td>\n",
       "    </tr>\n",
       "    <tr>\n",
       "      <th>668</th>\n",
       "      <td>668</td>\n",
       "      <td>Data Scientist</td>\n",
       "      <td>$105K-$167K (Glassdoor est.)</td>\n",
       "      <td>Job Description\\nBecome a thought leader withi...</td>\n",
       "      <td>$100 to $500 million (USD)</td>\n",
       "      <td>JKGT</td>\n",
       "      <td>San Francisco, CA</td>\n",
       "      <td>$100 to $500 million (USD)</td>\n",
       "      <td>1 to 50 employees</td>\n",
       "      <td>$100 to $500 million (USD)</td>\n",
       "      <td>Government</td>\n",
       "      <td>IT Services</td>\n",
       "      <td>Health Care</td>\n",
       "      <td>$100 to $500 million (USD)</td>\n",
       "      <td>$100 to $500 million (USD)</td>\n",
       "    </tr>\n",
       "    <tr>\n",
       "      <th>669</th>\n",
       "      <td>669</td>\n",
       "      <td>Data Scientist</td>\n",
       "      <td>$105K-$167K (Glassdoor est.)</td>\n",
       "      <td>Join a thriving company that is changing the w...</td>\n",
       "      <td>$100 to $500 million (USD)</td>\n",
       "      <td>AccessHope</td>\n",
       "      <td>Irwindale, CA</td>\n",
       "      <td>$100 to $500 million (USD)</td>\n",
       "      <td>1 to 50 employees</td>\n",
       "      <td>$100 to $500 million (USD)</td>\n",
       "      <td>Government</td>\n",
       "      <td>IT Services</td>\n",
       "      <td>Health Care</td>\n",
       "      <td>$100 to $500 million (USD)</td>\n",
       "      <td>$100 to $500 million (USD)</td>\n",
       "    </tr>\n",
       "    <tr>\n",
       "      <th>670</th>\n",
       "      <td>670</td>\n",
       "      <td>Data Scientist</td>\n",
       "      <td>$105K-$167K (Glassdoor est.)</td>\n",
       "      <td>100 Remote Opportunity As an AINLP Data Scient...</td>\n",
       "      <td>5</td>\n",
       "      <td>ChaTeck Incorporated\\n5.0</td>\n",
       "      <td>San Francisco, CA</td>\n",
       "      <td>Santa Clara, CA</td>\n",
       "      <td>1 to 50 employees</td>\n",
       "      <td>$100 to $500 million (USD)</td>\n",
       "      <td>Company - Private</td>\n",
       "      <td>Advertising &amp; Marketing</td>\n",
       "      <td>Business Services</td>\n",
       "      <td>$1 to $5 million (USD)</td>\n",
       "      <td>$100 to $500 million (USD)</td>\n",
       "    </tr>\n",
       "    <tr>\n",
       "      <th>671</th>\n",
       "      <td>671</td>\n",
       "      <td>Data Scientist</td>\n",
       "      <td>$105K-$167K (Glassdoor est.)</td>\n",
       "      <td>Description\\n\\nThe Data Scientist will be part...</td>\n",
       "      <td>2.7</td>\n",
       "      <td>1-800-Flowers\\n2.7</td>\n",
       "      <td>New York, NY</td>\n",
       "      <td>Carle Place, NY</td>\n",
       "      <td>1001 to 5000 employees</td>\n",
       "      <td>1976</td>\n",
       "      <td>Company - Public</td>\n",
       "      <td>Wholesale</td>\n",
       "      <td>Business Services</td>\n",
       "      <td>$1 to $2 billion (USD)</td>\n",
       "      <td>$100 to $500 million (USD)</td>\n",
       "    </tr>\n",
       "  </tbody>\n",
       "</table>\n",
       "<p>672 rows × 15 columns</p>\n",
       "</div>"
      ],
      "text/plain": [
       "     index          Job Title               Salary Estimate  \\\n",
       "0        0  Sr Data Scientist  $137K-$171K (Glassdoor est.)   \n",
       "1        1     Data Scientist  $137K-$171K (Glassdoor est.)   \n",
       "2        2     Data Scientist  $137K-$171K (Glassdoor est.)   \n",
       "3        3     Data Scientist  $137K-$171K (Glassdoor est.)   \n",
       "4        4     Data Scientist  $137K-$171K (Glassdoor est.)   \n",
       "..     ...                ...                           ...   \n",
       "667    667     Data Scientist  $105K-$167K (Glassdoor est.)   \n",
       "668    668     Data Scientist  $105K-$167K (Glassdoor est.)   \n",
       "669    669     Data Scientist  $105K-$167K (Glassdoor est.)   \n",
       "670    670     Data Scientist  $105K-$167K (Glassdoor est.)   \n",
       "671    671     Data Scientist  $105K-$167K (Glassdoor est.)   \n",
       "\n",
       "                                       Job Description  \\\n",
       "0    Description\\n\\nThe Senior Data Scientist is re...   \n",
       "1    Secure our Nation, Ignite your Future\\n\\nJoin ...   \n",
       "2    Overview\\n\\n\\nAnalysis Group is one of the lar...   \n",
       "3    JOB DESCRIPTION:\\n\\nDo you have a passion for ...   \n",
       "4    Data Scientist\\nAffinity Solutions / Marketing...   \n",
       "..                                                 ...   \n",
       "667  Summary\\n\\nWeâre looking for a data scientis...   \n",
       "668  Job Description\\nBecome a thought leader withi...   \n",
       "669  Join a thriving company that is changing the w...   \n",
       "670  100 Remote Opportunity As an AINLP Data Scient...   \n",
       "671  Description\\n\\nThe Data Scientist will be part...   \n",
       "\n",
       "                         Rating               Company Name           Location  \\\n",
       "0                           3.1           Healthfirst\\n3.1       New York, NY   \n",
       "1                           4.2               ManTech\\n4.2      Chantilly, VA   \n",
       "2                           3.8        Analysis Group\\n3.8         Boston, MA   \n",
       "3                           3.5               INFICON\\n3.5         Newton, MA   \n",
       "4                           2.9    Affinity Solutions\\n2.9       New York, NY   \n",
       "..                          ...                        ...                ...   \n",
       "667                         3.6              TRANZACT\\n3.6       Fort Lee, NJ   \n",
       "668  $100 to $500 million (USD)                       JKGT  San Francisco, CA   \n",
       "669  $100 to $500 million (USD)                 AccessHope      Irwindale, CA   \n",
       "670                           5  ChaTeck Incorporated\\n5.0  San Francisco, CA   \n",
       "671                         2.7         1-800-Flowers\\n2.7       New York, NY   \n",
       "\n",
       "                   Headquarters                     Size  \\\n",
       "0                  New York, NY   1001 to 5000 employees   \n",
       "1                   Herndon, VA  5001 to 10000 employees   \n",
       "2                    Boston, MA   1001 to 5000 employees   \n",
       "3        Bad Ragaz, Switzerland    501 to 1000 employees   \n",
       "4                  New York, NY      51 to 200 employees   \n",
       "..                          ...                      ...   \n",
       "667                Fort Lee, NJ   1001 to 5000 employees   \n",
       "668  $100 to $500 million (USD)        1 to 50 employees   \n",
       "669  $100 to $500 million (USD)        1 to 50 employees   \n",
       "670             Santa Clara, CA        1 to 50 employees   \n",
       "671             Carle Place, NY   1001 to 5000 employees   \n",
       "\n",
       "                        Founded        Type of ownership  \\\n",
       "0                          1993   Nonprofit Organization   \n",
       "1                          1968         Company - Public   \n",
       "2                          1981  Private Practice / Firm   \n",
       "3                          2000         Company - Public   \n",
       "4                          1998        Company - Private   \n",
       "..                          ...                      ...   \n",
       "667                        1989        Company - Private   \n",
       "668  $100 to $500 million (USD)               Government   \n",
       "669  $100 to $500 million (USD)               Government   \n",
       "670  $100 to $500 million (USD)        Company - Private   \n",
       "671                        1976         Company - Public   \n",
       "\n",
       "                                  Industry             Sector  \\\n",
       "0                       Insurance Carriers          Insurance   \n",
       "1                   Research & Development  Business Services   \n",
       "2                               Consulting  Business Services   \n",
       "3    Electrical & Electronic Manufacturing      Manufacturing   \n",
       "4                  Advertising & Marketing  Business Services   \n",
       "..                                     ...                ...   \n",
       "667                Advertising & Marketing  Business Services   \n",
       "668                            IT Services        Health Care   \n",
       "669                            IT Services        Health Care   \n",
       "670                Advertising & Marketing  Business Services   \n",
       "671                              Wholesale  Business Services   \n",
       "\n",
       "                        Revenue  \\\n",
       "0        $1 to $2 billion (USD)   \n",
       "1        $1 to $2 billion (USD)   \n",
       "2    $100 to $500 million (USD)   \n",
       "3    $100 to $500 million (USD)   \n",
       "4        $1 to $2 billion (USD)   \n",
       "..                          ...   \n",
       "667      $1 to $2 billion (USD)   \n",
       "668  $100 to $500 million (USD)   \n",
       "669  $100 to $500 million (USD)   \n",
       "670      $1 to $5 million (USD)   \n",
       "671      $1 to $2 billion (USD)   \n",
       "\n",
       "                                           Competitors  \n",
       "0              EmblemHealth, UnitedHealth Group, Aetna  \n",
       "1                           $100 to $500 million (USD)  \n",
       "2                           $100 to $500 million (USD)  \n",
       "3    MKS Instruments, Pfeiffer Vacuum, Agilent Tech...  \n",
       "4                 Commerce Signals, Cardlytics, Yodlee  \n",
       "..                                                 ...  \n",
       "667                         $100 to $500 million (USD)  \n",
       "668                         $100 to $500 million (USD)  \n",
       "669                         $100 to $500 million (USD)  \n",
       "670                         $100 to $500 million (USD)  \n",
       "671                         $100 to $500 million (USD)  \n",
       "\n",
       "[672 rows x 15 columns]"
      ]
     },
     "execution_count": 13,
     "metadata": {},
     "output_type": "execute_result"
    }
   ],
   "source": [
    "data[data['Salary Estimate']!='-1']"
   ]
  },
  {
   "cell_type": "markdown",
   "id": "3377c5af",
   "metadata": {},
   "source": [
    "Removing any rows that do not have a valid salary estimate"
   ]
  },
  {
   "cell_type": "code",
   "execution_count": 14,
   "id": "4a8ee8e6",
   "metadata": {},
   "outputs": [
    {
     "data": {
      "text/plain": [
       "0      True\n",
       "1      True\n",
       "2      True\n",
       "3      True\n",
       "4      True\n",
       "       ... \n",
       "667    True\n",
       "668    True\n",
       "669    True\n",
       "670    True\n",
       "671    True\n",
       "Name: Salary Estimate, Length: 672, dtype: bool"
      ]
     },
     "execution_count": 14,
     "metadata": {},
     "output_type": "execute_result"
    }
   ],
   "source": [
    "data['Salary Estimate']!='-1'"
   ]
  },
  {
   "cell_type": "markdown",
   "id": "dd4daaf2",
   "metadata": {},
   "source": [
    "Checking for duplicates in the data"
   ]
  },
  {
   "cell_type": "code",
   "execution_count": 15,
   "id": "7d859813",
   "metadata": {},
   "outputs": [
    {
     "data": {
      "text/html": [
       "<div>\n",
       "<style scoped>\n",
       "    .dataframe tbody tr th:only-of-type {\n",
       "        vertical-align: middle;\n",
       "    }\n",
       "\n",
       "    .dataframe tbody tr th {\n",
       "        vertical-align: top;\n",
       "    }\n",
       "\n",
       "    .dataframe thead th {\n",
       "        text-align: right;\n",
       "    }\n",
       "</style>\n",
       "<table border=\"1\" class=\"dataframe\">\n",
       "  <thead>\n",
       "    <tr style=\"text-align: right;\">\n",
       "      <th></th>\n",
       "      <th>index</th>\n",
       "      <th>Job Title</th>\n",
       "      <th>Salary Estimate</th>\n",
       "      <th>Job Description</th>\n",
       "      <th>Rating</th>\n",
       "      <th>Company Name</th>\n",
       "      <th>Location</th>\n",
       "      <th>Headquarters</th>\n",
       "      <th>Size</th>\n",
       "      <th>Founded</th>\n",
       "      <th>Type of ownership</th>\n",
       "      <th>Industry</th>\n",
       "      <th>Sector</th>\n",
       "      <th>Revenue</th>\n",
       "      <th>Competitors</th>\n",
       "    </tr>\n",
       "  </thead>\n",
       "  <tbody>\n",
       "  </tbody>\n",
       "</table>\n",
       "</div>"
      ],
      "text/plain": [
       "Empty DataFrame\n",
       "Columns: [index, Job Title, Salary Estimate, Job Description, Rating, Company Name, Location, Headquarters, Size, Founded, Type of ownership, Industry, Sector, Revenue, Competitors]\n",
       "Index: []"
      ]
     },
     "execution_count": 15,
     "metadata": {},
     "output_type": "execute_result"
    }
   ],
   "source": [
    "data[data.duplicated()]"
   ]
  },
  {
   "cell_type": "markdown",
   "id": "2e9a3c32",
   "metadata": {},
   "source": [
    "Suming duplicates in the data"
   ]
  },
  {
   "cell_type": "code",
   "execution_count": 16,
   "id": "8bb095ce",
   "metadata": {},
   "outputs": [
    {
     "data": {
      "text/plain": [
       "0"
      ]
     },
     "execution_count": 16,
     "metadata": {},
     "output_type": "execute_result"
    }
   ],
   "source": [
    "data.duplicated().sum()"
   ]
  },
  {
   "cell_type": "markdown",
   "id": "3e481b47",
   "metadata": {},
   "source": [
    "Checking for first 5 rows of the data"
   ]
  },
  {
   "cell_type": "code",
   "execution_count": 17,
   "id": "0e8261a1",
   "metadata": {
    "scrolled": true
   },
   "outputs": [
    {
     "data": {
      "text/html": [
       "<div>\n",
       "<style scoped>\n",
       "    .dataframe tbody tr th:only-of-type {\n",
       "        vertical-align: middle;\n",
       "    }\n",
       "\n",
       "    .dataframe tbody tr th {\n",
       "        vertical-align: top;\n",
       "    }\n",
       "\n",
       "    .dataframe thead th {\n",
       "        text-align: right;\n",
       "    }\n",
       "</style>\n",
       "<table border=\"1\" class=\"dataframe\">\n",
       "  <thead>\n",
       "    <tr style=\"text-align: right;\">\n",
       "      <th></th>\n",
       "      <th>index</th>\n",
       "      <th>Job Title</th>\n",
       "      <th>Salary Estimate</th>\n",
       "      <th>Job Description</th>\n",
       "      <th>Rating</th>\n",
       "      <th>Company Name</th>\n",
       "      <th>Location</th>\n",
       "      <th>Headquarters</th>\n",
       "      <th>Size</th>\n",
       "      <th>Founded</th>\n",
       "      <th>Type of ownership</th>\n",
       "      <th>Industry</th>\n",
       "      <th>Sector</th>\n",
       "      <th>Revenue</th>\n",
       "      <th>Competitors</th>\n",
       "    </tr>\n",
       "  </thead>\n",
       "  <tbody>\n",
       "    <tr>\n",
       "      <th>0</th>\n",
       "      <td>0</td>\n",
       "      <td>Sr Data Scientist</td>\n",
       "      <td>$137K-$171K (Glassdoor est.)</td>\n",
       "      <td>Description\\n\\nThe Senior Data Scientist is re...</td>\n",
       "      <td>3.1</td>\n",
       "      <td>Healthfirst\\n3.1</td>\n",
       "      <td>New York, NY</td>\n",
       "      <td>New York, NY</td>\n",
       "      <td>1001 to 5000 employees</td>\n",
       "      <td>1993</td>\n",
       "      <td>Nonprofit Organization</td>\n",
       "      <td>Insurance Carriers</td>\n",
       "      <td>Insurance</td>\n",
       "      <td>$1 to $2 billion (USD)</td>\n",
       "      <td>EmblemHealth, UnitedHealth Group, Aetna</td>\n",
       "    </tr>\n",
       "    <tr>\n",
       "      <th>1</th>\n",
       "      <td>1</td>\n",
       "      <td>Data Scientist</td>\n",
       "      <td>$137K-$171K (Glassdoor est.)</td>\n",
       "      <td>Secure our Nation, Ignite your Future\\n\\nJoin ...</td>\n",
       "      <td>4.2</td>\n",
       "      <td>ManTech\\n4.2</td>\n",
       "      <td>Chantilly, VA</td>\n",
       "      <td>Herndon, VA</td>\n",
       "      <td>5001 to 10000 employees</td>\n",
       "      <td>1968</td>\n",
       "      <td>Company - Public</td>\n",
       "      <td>Research &amp; Development</td>\n",
       "      <td>Business Services</td>\n",
       "      <td>$1 to $2 billion (USD)</td>\n",
       "      <td>$100 to $500 million (USD)</td>\n",
       "    </tr>\n",
       "    <tr>\n",
       "      <th>2</th>\n",
       "      <td>2</td>\n",
       "      <td>Data Scientist</td>\n",
       "      <td>$137K-$171K (Glassdoor est.)</td>\n",
       "      <td>Overview\\n\\n\\nAnalysis Group is one of the lar...</td>\n",
       "      <td>3.8</td>\n",
       "      <td>Analysis Group\\n3.8</td>\n",
       "      <td>Boston, MA</td>\n",
       "      <td>Boston, MA</td>\n",
       "      <td>1001 to 5000 employees</td>\n",
       "      <td>1981</td>\n",
       "      <td>Private Practice / Firm</td>\n",
       "      <td>Consulting</td>\n",
       "      <td>Business Services</td>\n",
       "      <td>$100 to $500 million (USD)</td>\n",
       "      <td>$100 to $500 million (USD)</td>\n",
       "    </tr>\n",
       "    <tr>\n",
       "      <th>3</th>\n",
       "      <td>3</td>\n",
       "      <td>Data Scientist</td>\n",
       "      <td>$137K-$171K (Glassdoor est.)</td>\n",
       "      <td>JOB DESCRIPTION:\\n\\nDo you have a passion for ...</td>\n",
       "      <td>3.5</td>\n",
       "      <td>INFICON\\n3.5</td>\n",
       "      <td>Newton, MA</td>\n",
       "      <td>Bad Ragaz, Switzerland</td>\n",
       "      <td>501 to 1000 employees</td>\n",
       "      <td>2000</td>\n",
       "      <td>Company - Public</td>\n",
       "      <td>Electrical &amp; Electronic Manufacturing</td>\n",
       "      <td>Manufacturing</td>\n",
       "      <td>$100 to $500 million (USD)</td>\n",
       "      <td>MKS Instruments, Pfeiffer Vacuum, Agilent Tech...</td>\n",
       "    </tr>\n",
       "    <tr>\n",
       "      <th>4</th>\n",
       "      <td>4</td>\n",
       "      <td>Data Scientist</td>\n",
       "      <td>$137K-$171K (Glassdoor est.)</td>\n",
       "      <td>Data Scientist\\nAffinity Solutions / Marketing...</td>\n",
       "      <td>2.9</td>\n",
       "      <td>Affinity Solutions\\n2.9</td>\n",
       "      <td>New York, NY</td>\n",
       "      <td>New York, NY</td>\n",
       "      <td>51 to 200 employees</td>\n",
       "      <td>1998</td>\n",
       "      <td>Company - Private</td>\n",
       "      <td>Advertising &amp; Marketing</td>\n",
       "      <td>Business Services</td>\n",
       "      <td>$1 to $2 billion (USD)</td>\n",
       "      <td>Commerce Signals, Cardlytics, Yodlee</td>\n",
       "    </tr>\n",
       "  </tbody>\n",
       "</table>\n",
       "</div>"
      ],
      "text/plain": [
       "   index          Job Title               Salary Estimate  \\\n",
       "0      0  Sr Data Scientist  $137K-$171K (Glassdoor est.)   \n",
       "1      1     Data Scientist  $137K-$171K (Glassdoor est.)   \n",
       "2      2     Data Scientist  $137K-$171K (Glassdoor est.)   \n",
       "3      3     Data Scientist  $137K-$171K (Glassdoor est.)   \n",
       "4      4     Data Scientist  $137K-$171K (Glassdoor est.)   \n",
       "\n",
       "                                     Job Description Rating  \\\n",
       "0  Description\\n\\nThe Senior Data Scientist is re...    3.1   \n",
       "1  Secure our Nation, Ignite your Future\\n\\nJoin ...    4.2   \n",
       "2  Overview\\n\\n\\nAnalysis Group is one of the lar...    3.8   \n",
       "3  JOB DESCRIPTION:\\n\\nDo you have a passion for ...    3.5   \n",
       "4  Data Scientist\\nAffinity Solutions / Marketing...    2.9   \n",
       "\n",
       "              Company Name       Location            Headquarters  \\\n",
       "0         Healthfirst\\n3.1   New York, NY            New York, NY   \n",
       "1             ManTech\\n4.2  Chantilly, VA             Herndon, VA   \n",
       "2      Analysis Group\\n3.8     Boston, MA              Boston, MA   \n",
       "3             INFICON\\n3.5     Newton, MA  Bad Ragaz, Switzerland   \n",
       "4  Affinity Solutions\\n2.9   New York, NY            New York, NY   \n",
       "\n",
       "                      Size Founded        Type of ownership  \\\n",
       "0   1001 to 5000 employees    1993   Nonprofit Organization   \n",
       "1  5001 to 10000 employees    1968         Company - Public   \n",
       "2   1001 to 5000 employees    1981  Private Practice / Firm   \n",
       "3    501 to 1000 employees    2000         Company - Public   \n",
       "4      51 to 200 employees    1998        Company - Private   \n",
       "\n",
       "                                Industry             Sector  \\\n",
       "0                     Insurance Carriers          Insurance   \n",
       "1                 Research & Development  Business Services   \n",
       "2                             Consulting  Business Services   \n",
       "3  Electrical & Electronic Manufacturing      Manufacturing   \n",
       "4                Advertising & Marketing  Business Services   \n",
       "\n",
       "                      Revenue  \\\n",
       "0      $1 to $2 billion (USD)   \n",
       "1      $1 to $2 billion (USD)   \n",
       "2  $100 to $500 million (USD)   \n",
       "3  $100 to $500 million (USD)   \n",
       "4      $1 to $2 billion (USD)   \n",
       "\n",
       "                                         Competitors  \n",
       "0            EmblemHealth, UnitedHealth Group, Aetna  \n",
       "1                         $100 to $500 million (USD)  \n",
       "2                         $100 to $500 million (USD)  \n",
       "3  MKS Instruments, Pfeiffer Vacuum, Agilent Tech...  \n",
       "4               Commerce Signals, Cardlytics, Yodlee  "
      ]
     },
     "execution_count": 17,
     "metadata": {},
     "output_type": "execute_result"
    }
   ],
   "source": [
    "data.head()"
   ]
  },
  {
   "cell_type": "markdown",
   "id": "8f57fea0",
   "metadata": {},
   "source": [
    "Checking for the last five rows of the data"
   ]
  },
  {
   "cell_type": "code",
   "execution_count": 18,
   "id": "a1e72bba",
   "metadata": {},
   "outputs": [
    {
     "data": {
      "text/html": [
       "<div>\n",
       "<style scoped>\n",
       "    .dataframe tbody tr th:only-of-type {\n",
       "        vertical-align: middle;\n",
       "    }\n",
       "\n",
       "    .dataframe tbody tr th {\n",
       "        vertical-align: top;\n",
       "    }\n",
       "\n",
       "    .dataframe thead th {\n",
       "        text-align: right;\n",
       "    }\n",
       "</style>\n",
       "<table border=\"1\" class=\"dataframe\">\n",
       "  <thead>\n",
       "    <tr style=\"text-align: right;\">\n",
       "      <th></th>\n",
       "      <th>index</th>\n",
       "      <th>Job Title</th>\n",
       "      <th>Salary Estimate</th>\n",
       "      <th>Job Description</th>\n",
       "      <th>Rating</th>\n",
       "      <th>Company Name</th>\n",
       "      <th>Location</th>\n",
       "      <th>Headquarters</th>\n",
       "      <th>Size</th>\n",
       "      <th>Founded</th>\n",
       "      <th>Type of ownership</th>\n",
       "      <th>Industry</th>\n",
       "      <th>Sector</th>\n",
       "      <th>Revenue</th>\n",
       "      <th>Competitors</th>\n",
       "    </tr>\n",
       "  </thead>\n",
       "  <tbody>\n",
       "    <tr>\n",
       "      <th>667</th>\n",
       "      <td>667</td>\n",
       "      <td>Data Scientist</td>\n",
       "      <td>$105K-$167K (Glassdoor est.)</td>\n",
       "      <td>Summary\\n\\nWeâre looking for a data scientis...</td>\n",
       "      <td>3.6</td>\n",
       "      <td>TRANZACT\\n3.6</td>\n",
       "      <td>Fort Lee, NJ</td>\n",
       "      <td>Fort Lee, NJ</td>\n",
       "      <td>1001 to 5000 employees</td>\n",
       "      <td>1989</td>\n",
       "      <td>Company - Private</td>\n",
       "      <td>Advertising &amp; Marketing</td>\n",
       "      <td>Business Services</td>\n",
       "      <td>$1 to $2 billion (USD)</td>\n",
       "      <td>$100 to $500 million (USD)</td>\n",
       "    </tr>\n",
       "    <tr>\n",
       "      <th>668</th>\n",
       "      <td>668</td>\n",
       "      <td>Data Scientist</td>\n",
       "      <td>$105K-$167K (Glassdoor est.)</td>\n",
       "      <td>Job Description\\nBecome a thought leader withi...</td>\n",
       "      <td>$100 to $500 million (USD)</td>\n",
       "      <td>JKGT</td>\n",
       "      <td>San Francisco, CA</td>\n",
       "      <td>$100 to $500 million (USD)</td>\n",
       "      <td>1 to 50 employees</td>\n",
       "      <td>$100 to $500 million (USD)</td>\n",
       "      <td>Government</td>\n",
       "      <td>IT Services</td>\n",
       "      <td>Health Care</td>\n",
       "      <td>$100 to $500 million (USD)</td>\n",
       "      <td>$100 to $500 million (USD)</td>\n",
       "    </tr>\n",
       "    <tr>\n",
       "      <th>669</th>\n",
       "      <td>669</td>\n",
       "      <td>Data Scientist</td>\n",
       "      <td>$105K-$167K (Glassdoor est.)</td>\n",
       "      <td>Join a thriving company that is changing the w...</td>\n",
       "      <td>$100 to $500 million (USD)</td>\n",
       "      <td>AccessHope</td>\n",
       "      <td>Irwindale, CA</td>\n",
       "      <td>$100 to $500 million (USD)</td>\n",
       "      <td>1 to 50 employees</td>\n",
       "      <td>$100 to $500 million (USD)</td>\n",
       "      <td>Government</td>\n",
       "      <td>IT Services</td>\n",
       "      <td>Health Care</td>\n",
       "      <td>$100 to $500 million (USD)</td>\n",
       "      <td>$100 to $500 million (USD)</td>\n",
       "    </tr>\n",
       "    <tr>\n",
       "      <th>670</th>\n",
       "      <td>670</td>\n",
       "      <td>Data Scientist</td>\n",
       "      <td>$105K-$167K (Glassdoor est.)</td>\n",
       "      <td>100 Remote Opportunity As an AINLP Data Scient...</td>\n",
       "      <td>5</td>\n",
       "      <td>ChaTeck Incorporated\\n5.0</td>\n",
       "      <td>San Francisco, CA</td>\n",
       "      <td>Santa Clara, CA</td>\n",
       "      <td>1 to 50 employees</td>\n",
       "      <td>$100 to $500 million (USD)</td>\n",
       "      <td>Company - Private</td>\n",
       "      <td>Advertising &amp; Marketing</td>\n",
       "      <td>Business Services</td>\n",
       "      <td>$1 to $5 million (USD)</td>\n",
       "      <td>$100 to $500 million (USD)</td>\n",
       "    </tr>\n",
       "    <tr>\n",
       "      <th>671</th>\n",
       "      <td>671</td>\n",
       "      <td>Data Scientist</td>\n",
       "      <td>$105K-$167K (Glassdoor est.)</td>\n",
       "      <td>Description\\n\\nThe Data Scientist will be part...</td>\n",
       "      <td>2.7</td>\n",
       "      <td>1-800-Flowers\\n2.7</td>\n",
       "      <td>New York, NY</td>\n",
       "      <td>Carle Place, NY</td>\n",
       "      <td>1001 to 5000 employees</td>\n",
       "      <td>1976</td>\n",
       "      <td>Company - Public</td>\n",
       "      <td>Wholesale</td>\n",
       "      <td>Business Services</td>\n",
       "      <td>$1 to $2 billion (USD)</td>\n",
       "      <td>$100 to $500 million (USD)</td>\n",
       "    </tr>\n",
       "  </tbody>\n",
       "</table>\n",
       "</div>"
      ],
      "text/plain": [
       "     index       Job Title               Salary Estimate  \\\n",
       "667    667  Data Scientist  $105K-$167K (Glassdoor est.)   \n",
       "668    668  Data Scientist  $105K-$167K (Glassdoor est.)   \n",
       "669    669  Data Scientist  $105K-$167K (Glassdoor est.)   \n",
       "670    670  Data Scientist  $105K-$167K (Glassdoor est.)   \n",
       "671    671  Data Scientist  $105K-$167K (Glassdoor est.)   \n",
       "\n",
       "                                       Job Description  \\\n",
       "667  Summary\\n\\nWeâre looking for a data scientis...   \n",
       "668  Job Description\\nBecome a thought leader withi...   \n",
       "669  Join a thriving company that is changing the w...   \n",
       "670  100 Remote Opportunity As an AINLP Data Scient...   \n",
       "671  Description\\n\\nThe Data Scientist will be part...   \n",
       "\n",
       "                         Rating               Company Name           Location  \\\n",
       "667                         3.6              TRANZACT\\n3.6       Fort Lee, NJ   \n",
       "668  $100 to $500 million (USD)                       JKGT  San Francisco, CA   \n",
       "669  $100 to $500 million (USD)                 AccessHope      Irwindale, CA   \n",
       "670                           5  ChaTeck Incorporated\\n5.0  San Francisco, CA   \n",
       "671                         2.7         1-800-Flowers\\n2.7       New York, NY   \n",
       "\n",
       "                   Headquarters                    Size  \\\n",
       "667                Fort Lee, NJ  1001 to 5000 employees   \n",
       "668  $100 to $500 million (USD)       1 to 50 employees   \n",
       "669  $100 to $500 million (USD)       1 to 50 employees   \n",
       "670             Santa Clara, CA       1 to 50 employees   \n",
       "671             Carle Place, NY  1001 to 5000 employees   \n",
       "\n",
       "                        Founded  Type of ownership                 Industry  \\\n",
       "667                        1989  Company - Private  Advertising & Marketing   \n",
       "668  $100 to $500 million (USD)         Government              IT Services   \n",
       "669  $100 to $500 million (USD)         Government              IT Services   \n",
       "670  $100 to $500 million (USD)  Company - Private  Advertising & Marketing   \n",
       "671                        1976   Company - Public                Wholesale   \n",
       "\n",
       "                Sector                     Revenue                 Competitors  \n",
       "667  Business Services      $1 to $2 billion (USD)  $100 to $500 million (USD)  \n",
       "668        Health Care  $100 to $500 million (USD)  $100 to $500 million (USD)  \n",
       "669        Health Care  $100 to $500 million (USD)  $100 to $500 million (USD)  \n",
       "670  Business Services      $1 to $5 million (USD)  $100 to $500 million (USD)  \n",
       "671  Business Services      $1 to $2 billion (USD)  $100 to $500 million (USD)  "
      ]
     },
     "execution_count": 18,
     "metadata": {},
     "output_type": "execute_result"
    }
   ],
   "source": [
    "data.tail()"
   ]
  },
  {
   "cell_type": "markdown",
   "id": "d8ebf975",
   "metadata": {},
   "source": [
    "Checking for null values in the data"
   ]
  },
  {
   "cell_type": "code",
   "execution_count": 19,
   "id": "5bf0120e",
   "metadata": {
    "scrolled": true
   },
   "outputs": [
    {
     "name": "stdout",
     "output_type": "stream",
     "text": [
      "<class 'pandas.core.frame.DataFrame'>\n",
      "RangeIndex: 672 entries, 0 to 671\n",
      "Data columns (total 15 columns):\n",
      " #   Column             Non-Null Count  Dtype \n",
      "---  ------             --------------  ----- \n",
      " 0   index              672 non-null    int64 \n",
      " 1   Job Title          672 non-null    object\n",
      " 2   Salary Estimate    672 non-null    object\n",
      " 3   Job Description    672 non-null    object\n",
      " 4   Rating             672 non-null    object\n",
      " 5   Company Name       672 non-null    object\n",
      " 6   Location           672 non-null    object\n",
      " 7   Headquarters       672 non-null    object\n",
      " 8   Size               672 non-null    object\n",
      " 9   Founded            672 non-null    object\n",
      " 10  Type of ownership  672 non-null    object\n",
      " 11  Industry           672 non-null    object\n",
      " 12  Sector             672 non-null    object\n",
      " 13  Revenue            672 non-null    object\n",
      " 14  Competitors        672 non-null    object\n",
      "dtypes: int64(1), object(14)\n",
      "memory usage: 78.9+ KB\n"
     ]
    }
   ],
   "source": [
    "data.info()"
   ]
  },
  {
   "cell_type": "markdown",
   "id": "06159104",
   "metadata": {},
   "source": [
    "Checking for missing values in the corresponding column."
   ]
  },
  {
   "cell_type": "code",
   "execution_count": 20,
   "id": "dd304bc7",
   "metadata": {},
   "outputs": [
    {
     "data": {
      "text/plain": [
       "index                0\n",
       "Job Title            0\n",
       "Salary Estimate      0\n",
       "Job Description      0\n",
       "Rating               0\n",
       "Company Name         0\n",
       "Location             0\n",
       "Headquarters         0\n",
       "Size                 0\n",
       "Founded              0\n",
       "Type of ownership    0\n",
       "Industry             0\n",
       "Sector               0\n",
       "Revenue              0\n",
       "Competitors          0\n",
       "dtype: int64"
      ]
     },
     "execution_count": 20,
     "metadata": {},
     "output_type": "execute_result"
    }
   ],
   "source": [
    "data.isnull().sum()"
   ]
  },
  {
   "cell_type": "markdown",
   "id": "d06a5b6f",
   "metadata": {},
   "source": [
    "Checking for the  column labels"
   ]
  },
  {
   "cell_type": "code",
   "execution_count": 21,
   "id": "67edbe4a",
   "metadata": {},
   "outputs": [
    {
     "data": {
      "text/plain": [
       "Index(['index', 'Job Title', 'Salary Estimate', 'Job Description', 'Rating',\n",
       "       'Company Name', 'Location', 'Headquarters', 'Size', 'Founded',\n",
       "       'Type of ownership', 'Industry', 'Sector', 'Revenue', 'Competitors'],\n",
       "      dtype='object')"
      ]
     },
     "execution_count": 21,
     "metadata": {},
     "output_type": "execute_result"
    }
   ],
   "source": [
    "data.columns"
   ]
  },
  {
   "cell_type": "markdown",
   "id": "1dade626",
   "metadata": {},
   "source": [
    "Checking the data type of the values in the column labeled 'Salary Estimate'."
   ]
  },
  {
   "cell_type": "code",
   "execution_count": 22,
   "id": "cc51c160",
   "metadata": {
    "scrolled": true
   },
   "outputs": [
    {
     "data": {
      "text/plain": [
       "dtype('O')"
      ]
     },
     "execution_count": 22,
     "metadata": {},
     "output_type": "execute_result"
    }
   ],
   "source": [
    "data['Salary Estimate'].dtype"
   ]
  },
  {
   "cell_type": "markdown",
   "id": "72062b0a",
   "metadata": {},
   "source": [
    "Checking the frequency of each unique value in the  column labeled 'Salary Estimate'."
   ]
  },
  {
   "cell_type": "code",
   "execution_count": 23,
   "id": "fb39ca14",
   "metadata": {
    "scrolled": true
   },
   "outputs": [
    {
     "data": {
      "text/plain": [
       "$79K-$131K (Glassdoor est.)     32\n",
       "$99K-$132K (Glassdoor est.)     32\n",
       "$75K-$131K (Glassdoor est.)     32\n",
       "$137K-$171K (Glassdoor est.)    30\n",
       "$90K-$109K (Glassdoor est.)     30\n",
       "$56K-$97K (Glassdoor est.)      22\n",
       "$79K-$106K (Glassdoor est.)     22\n",
       "$90K-$124K (Glassdoor est.)     22\n",
       "$110K-$163K (Glassdoor est.)    21\n",
       "$92K-$155K (Glassdoor est.)     21\n",
       "$138K-$158K (Glassdoor est.)    21\n",
       "$128K-$201K (Glassdoor est.)    21\n",
       "$212K-$331K (Glassdoor est.)    21\n",
       "$95K-$119K (Glassdoor est.)     21\n",
       "$69K-$116K (Glassdoor est.)     21\n",
       "$124K-$198K (Glassdoor est.)    21\n",
       "$112K-$116K (Glassdoor est.)    21\n",
       "$122K-$146K (Glassdoor est.)    21\n",
       "$91K-$150K (Glassdoor est.)     21\n",
       "$101K-$165K (Glassdoor est.)    21\n",
       "$79K-$147K (Glassdoor est.)     20\n",
       "$31K-$56K (Glassdoor est.)      20\n",
       "$145K-$225K(Employer est.)      20\n",
       "$141K-$225K (Glassdoor est.)    20\n",
       "$66K-$112K (Glassdoor est.)     20\n",
       "$80K-$132K (Glassdoor est.)     20\n",
       "$87K-$141K (Glassdoor est.)     20\n",
       "$105K-$167K (Glassdoor est.)    20\n",
       "$79K-$133K (Glassdoor est.)     19\n",
       "$71K-$123K (Glassdoor est.)     19\n",
       "Name: Salary Estimate, dtype: int64"
      ]
     },
     "execution_count": 23,
     "metadata": {},
     "output_type": "execute_result"
    }
   ],
   "source": [
    "data['Salary Estimate'].value_counts()"
   ]
  },
  {
   "cell_type": "markdown",
   "id": "0c1fc7a4",
   "metadata": {},
   "source": [
    "Removing all the rows from the original Data where the 'Salary Estimate' was not provided"
   ]
  },
  {
   "cell_type": "code",
   "execution_count": 24,
   "id": "dc05114a",
   "metadata": {},
   "outputs": [],
   "source": [
    "data = data[data['Salary Estimate']!= '-1']"
   ]
  },
  {
   "cell_type": "markdown",
   "id": "cdd88b14",
   "metadata": {},
   "source": [
    "Counting the frequency of each unique value in the 'Salary Estimate' column "
   ]
  },
  {
   "cell_type": "code",
   "execution_count": 25,
   "id": "c15f04d9",
   "metadata": {
    "scrolled": true
   },
   "outputs": [
    {
     "data": {
      "text/plain": [
       "$79K-$131K (Glassdoor est.)     32\n",
       "$99K-$132K (Glassdoor est.)     32\n",
       "$75K-$131K (Glassdoor est.)     32\n",
       "$137K-$171K (Glassdoor est.)    30\n",
       "$90K-$109K (Glassdoor est.)     30\n",
       "$56K-$97K (Glassdoor est.)      22\n",
       "$79K-$106K (Glassdoor est.)     22\n",
       "$90K-$124K (Glassdoor est.)     22\n",
       "$110K-$163K (Glassdoor est.)    21\n",
       "$92K-$155K (Glassdoor est.)     21\n",
       "$138K-$158K (Glassdoor est.)    21\n",
       "$128K-$201K (Glassdoor est.)    21\n",
       "$212K-$331K (Glassdoor est.)    21\n",
       "$95K-$119K (Glassdoor est.)     21\n",
       "$69K-$116K (Glassdoor est.)     21\n",
       "$124K-$198K (Glassdoor est.)    21\n",
       "$112K-$116K (Glassdoor est.)    21\n",
       "$122K-$146K (Glassdoor est.)    21\n",
       "$91K-$150K (Glassdoor est.)     21\n",
       "$101K-$165K (Glassdoor est.)    21\n",
       "$79K-$147K (Glassdoor est.)     20\n",
       "$31K-$56K (Glassdoor est.)      20\n",
       "$145K-$225K(Employer est.)      20\n",
       "$141K-$225K (Glassdoor est.)    20\n",
       "$66K-$112K (Glassdoor est.)     20\n",
       "$80K-$132K (Glassdoor est.)     20\n",
       "$87K-$141K (Glassdoor est.)     20\n",
       "$105K-$167K (Glassdoor est.)    20\n",
       "$79K-$133K (Glassdoor est.)     19\n",
       "$71K-$123K (Glassdoor est.)     19\n",
       "Name: Salary Estimate, dtype: int64"
      ]
     },
     "execution_count": 25,
     "metadata": {},
     "output_type": "execute_result"
    }
   ],
   "source": [
    "data['Salary Estimate'].value_counts()"
   ]
  },
  {
   "cell_type": "markdown",
   "id": "4a6ef391",
   "metadata": {},
   "source": [
    "Removing all text that comes after the values in the 'Salary Estimate'"
   ]
  },
  {
   "cell_type": "code",
   "execution_count": 26,
   "id": "e39ef637",
   "metadata": {},
   "outputs": [],
   "source": [
    "salary = data['Salary Estimate'].apply(lambda e : e.split('(')[0])"
   ]
  },
  {
   "cell_type": "code",
   "execution_count": 27,
   "id": "0c261458",
   "metadata": {},
   "outputs": [
    {
     "data": {
      "text/plain": [
       "0      $137K-$171K \n",
       "1      $137K-$171K \n",
       "2      $137K-$171K \n",
       "3      $137K-$171K \n",
       "4      $137K-$171K \n",
       "           ...     \n",
       "667    $105K-$167K \n",
       "668    $105K-$167K \n",
       "669    $105K-$167K \n",
       "670    $105K-$167K \n",
       "671    $105K-$167K \n",
       "Name: Salary Estimate, Length: 672, dtype: object"
      ]
     },
     "execution_count": 27,
     "metadata": {},
     "output_type": "execute_result"
    }
   ],
   "source": [
    "salary"
   ]
  },
  {
   "cell_type": "markdown",
   "id": "89f5b2dc",
   "metadata": {},
   "source": [
    "Removing the dollar sign ('$')and the letter 'K'"
   ]
  },
  {
   "cell_type": "code",
   "execution_count": 28,
   "id": "ea6faa6c",
   "metadata": {},
   "outputs": [],
   "source": [
    "salary = salary.apply(lambda x : x.replace('$' ,'').replace('K',''))"
   ]
  },
  {
   "cell_type": "code",
   "execution_count": 29,
   "id": "021d4b5b",
   "metadata": {},
   "outputs": [
    {
     "data": {
      "text/plain": [
       "array(['137-171 ', '75-131 ', '79-131 ', '99-132 ', '90-109 ', '101-165 ',\n",
       "       '56-97 ', '79-106 ', '71-123 ', '90-124 ', '91-150 ', '141-225 ',\n",
       "       '145-225', '79-147 ', '122-146 ', '112-116 ', '110-163 ',\n",
       "       '124-198 ', '79-133 ', '69-116 ', '31-56 ', '95-119 ', '212-331 ',\n",
       "       '66-112 ', '128-201 ', '138-158 ', '80-132 ', '87-141 ', '92-155 ',\n",
       "       '105-167 '], dtype=object)"
      ]
     },
     "execution_count": 29,
     "metadata": {},
     "output_type": "execute_result"
    }
   ],
   "source": [
    "salary.unique()"
   ]
  },
  {
   "cell_type": "markdown",
   "id": "c85519d3",
   "metadata": {},
   "source": [
    "Converting characters to lowercase and removing all irrelevant text that are not related to salary information"
   ]
  },
  {
   "cell_type": "code",
   "execution_count": 30,
   "id": "27cbbda8",
   "metadata": {},
   "outputs": [],
   "source": [
    "salary = salary.apply(lambda x: x.lower().replace('per hour','').replace('employer provided salary:',''))"
   ]
  },
  {
   "cell_type": "code",
   "execution_count": 31,
   "id": "5dfefcca",
   "metadata": {},
   "outputs": [
    {
     "data": {
      "text/plain": [
       "array(['137-171 ', '75-131 ', '79-131 ', '99-132 ', '90-109 ', '101-165 ',\n",
       "       '56-97 ', '79-106 ', '71-123 ', '90-124 ', '91-150 ', '141-225 ',\n",
       "       '145-225', '79-147 ', '122-146 ', '112-116 ', '110-163 ',\n",
       "       '124-198 ', '79-133 ', '69-116 ', '31-56 ', '95-119 ', '212-331 ',\n",
       "       '66-112 ', '128-201 ', '138-158 ', '80-132 ', '87-141 ', '92-155 ',\n",
       "       '105-167 '], dtype=object)"
      ]
     },
     "execution_count": 31,
     "metadata": {},
     "output_type": "execute_result"
    }
   ],
   "source": [
    "salary.unique()"
   ]
  },
  {
   "cell_type": "markdown",
   "id": "cafebe85",
   "metadata": {},
   "source": [
    "Extracting the minimum salary value and storing it in a new column called 'min_salary'"
   ]
  },
  {
   "cell_type": "code",
   "execution_count": 32,
   "id": "fe7cd508",
   "metadata": {},
   "outputs": [],
   "source": [
    "data['min_salary'] = salary.apply(lambda t : t.split('-')[0])"
   ]
  },
  {
   "cell_type": "markdown",
   "id": "e0e71bd7",
   "metadata": {},
   "source": [
    "Extracting the maximum salary value and storing it in a new column called 'max_salary'"
   ]
  },
  {
   "cell_type": "code",
   "execution_count": 33,
   "id": "3a2165b8",
   "metadata": {},
   "outputs": [],
   "source": [
    "data['max_salary'] = salary.apply(lambda t : t.split('-')[1])"
   ]
  },
  {
   "cell_type": "markdown",
   "id": "288ffcc7",
   "metadata": {},
   "source": [
    "Checking for the last five rows of the data"
   ]
  },
  {
   "cell_type": "code",
   "execution_count": 34,
   "id": "39c59134",
   "metadata": {},
   "outputs": [
    {
     "data": {
      "text/html": [
       "<div>\n",
       "<style scoped>\n",
       "    .dataframe tbody tr th:only-of-type {\n",
       "        vertical-align: middle;\n",
       "    }\n",
       "\n",
       "    .dataframe tbody tr th {\n",
       "        vertical-align: top;\n",
       "    }\n",
       "\n",
       "    .dataframe thead th {\n",
       "        text-align: right;\n",
       "    }\n",
       "</style>\n",
       "<table border=\"1\" class=\"dataframe\">\n",
       "  <thead>\n",
       "    <tr style=\"text-align: right;\">\n",
       "      <th></th>\n",
       "      <th>index</th>\n",
       "      <th>Job Title</th>\n",
       "      <th>Salary Estimate</th>\n",
       "      <th>Job Description</th>\n",
       "      <th>Rating</th>\n",
       "      <th>Company Name</th>\n",
       "      <th>Location</th>\n",
       "      <th>Headquarters</th>\n",
       "      <th>Size</th>\n",
       "      <th>Founded</th>\n",
       "      <th>Type of ownership</th>\n",
       "      <th>Industry</th>\n",
       "      <th>Sector</th>\n",
       "      <th>Revenue</th>\n",
       "      <th>Competitors</th>\n",
       "      <th>min_salary</th>\n",
       "      <th>max_salary</th>\n",
       "    </tr>\n",
       "  </thead>\n",
       "  <tbody>\n",
       "    <tr>\n",
       "      <th>0</th>\n",
       "      <td>0</td>\n",
       "      <td>Sr Data Scientist</td>\n",
       "      <td>$137K-$171K (Glassdoor est.)</td>\n",
       "      <td>Description\\n\\nThe Senior Data Scientist is re...</td>\n",
       "      <td>3.1</td>\n",
       "      <td>Healthfirst\\n3.1</td>\n",
       "      <td>New York, NY</td>\n",
       "      <td>New York, NY</td>\n",
       "      <td>1001 to 5000 employees</td>\n",
       "      <td>1993</td>\n",
       "      <td>Nonprofit Organization</td>\n",
       "      <td>Insurance Carriers</td>\n",
       "      <td>Insurance</td>\n",
       "      <td>$1 to $2 billion (USD)</td>\n",
       "      <td>EmblemHealth, UnitedHealth Group, Aetna</td>\n",
       "      <td>137</td>\n",
       "      <td>171</td>\n",
       "    </tr>\n",
       "    <tr>\n",
       "      <th>1</th>\n",
       "      <td>1</td>\n",
       "      <td>Data Scientist</td>\n",
       "      <td>$137K-$171K (Glassdoor est.)</td>\n",
       "      <td>Secure our Nation, Ignite your Future\\n\\nJoin ...</td>\n",
       "      <td>4.2</td>\n",
       "      <td>ManTech\\n4.2</td>\n",
       "      <td>Chantilly, VA</td>\n",
       "      <td>Herndon, VA</td>\n",
       "      <td>5001 to 10000 employees</td>\n",
       "      <td>1968</td>\n",
       "      <td>Company - Public</td>\n",
       "      <td>Research &amp; Development</td>\n",
       "      <td>Business Services</td>\n",
       "      <td>$1 to $2 billion (USD)</td>\n",
       "      <td>$100 to $500 million (USD)</td>\n",
       "      <td>137</td>\n",
       "      <td>171</td>\n",
       "    </tr>\n",
       "    <tr>\n",
       "      <th>2</th>\n",
       "      <td>2</td>\n",
       "      <td>Data Scientist</td>\n",
       "      <td>$137K-$171K (Glassdoor est.)</td>\n",
       "      <td>Overview\\n\\n\\nAnalysis Group is one of the lar...</td>\n",
       "      <td>3.8</td>\n",
       "      <td>Analysis Group\\n3.8</td>\n",
       "      <td>Boston, MA</td>\n",
       "      <td>Boston, MA</td>\n",
       "      <td>1001 to 5000 employees</td>\n",
       "      <td>1981</td>\n",
       "      <td>Private Practice / Firm</td>\n",
       "      <td>Consulting</td>\n",
       "      <td>Business Services</td>\n",
       "      <td>$100 to $500 million (USD)</td>\n",
       "      <td>$100 to $500 million (USD)</td>\n",
       "      <td>137</td>\n",
       "      <td>171</td>\n",
       "    </tr>\n",
       "    <tr>\n",
       "      <th>3</th>\n",
       "      <td>3</td>\n",
       "      <td>Data Scientist</td>\n",
       "      <td>$137K-$171K (Glassdoor est.)</td>\n",
       "      <td>JOB DESCRIPTION:\\n\\nDo you have a passion for ...</td>\n",
       "      <td>3.5</td>\n",
       "      <td>INFICON\\n3.5</td>\n",
       "      <td>Newton, MA</td>\n",
       "      <td>Bad Ragaz, Switzerland</td>\n",
       "      <td>501 to 1000 employees</td>\n",
       "      <td>2000</td>\n",
       "      <td>Company - Public</td>\n",
       "      <td>Electrical &amp; Electronic Manufacturing</td>\n",
       "      <td>Manufacturing</td>\n",
       "      <td>$100 to $500 million (USD)</td>\n",
       "      <td>MKS Instruments, Pfeiffer Vacuum, Agilent Tech...</td>\n",
       "      <td>137</td>\n",
       "      <td>171</td>\n",
       "    </tr>\n",
       "    <tr>\n",
       "      <th>4</th>\n",
       "      <td>4</td>\n",
       "      <td>Data Scientist</td>\n",
       "      <td>$137K-$171K (Glassdoor est.)</td>\n",
       "      <td>Data Scientist\\nAffinity Solutions / Marketing...</td>\n",
       "      <td>2.9</td>\n",
       "      <td>Affinity Solutions\\n2.9</td>\n",
       "      <td>New York, NY</td>\n",
       "      <td>New York, NY</td>\n",
       "      <td>51 to 200 employees</td>\n",
       "      <td>1998</td>\n",
       "      <td>Company - Private</td>\n",
       "      <td>Advertising &amp; Marketing</td>\n",
       "      <td>Business Services</td>\n",
       "      <td>$1 to $2 billion (USD)</td>\n",
       "      <td>Commerce Signals, Cardlytics, Yodlee</td>\n",
       "      <td>137</td>\n",
       "      <td>171</td>\n",
       "    </tr>\n",
       "  </tbody>\n",
       "</table>\n",
       "</div>"
      ],
      "text/plain": [
       "   index          Job Title               Salary Estimate  \\\n",
       "0      0  Sr Data Scientist  $137K-$171K (Glassdoor est.)   \n",
       "1      1     Data Scientist  $137K-$171K (Glassdoor est.)   \n",
       "2      2     Data Scientist  $137K-$171K (Glassdoor est.)   \n",
       "3      3     Data Scientist  $137K-$171K (Glassdoor est.)   \n",
       "4      4     Data Scientist  $137K-$171K (Glassdoor est.)   \n",
       "\n",
       "                                     Job Description Rating  \\\n",
       "0  Description\\n\\nThe Senior Data Scientist is re...    3.1   \n",
       "1  Secure our Nation, Ignite your Future\\n\\nJoin ...    4.2   \n",
       "2  Overview\\n\\n\\nAnalysis Group is one of the lar...    3.8   \n",
       "3  JOB DESCRIPTION:\\n\\nDo you have a passion for ...    3.5   \n",
       "4  Data Scientist\\nAffinity Solutions / Marketing...    2.9   \n",
       "\n",
       "              Company Name       Location            Headquarters  \\\n",
       "0         Healthfirst\\n3.1   New York, NY            New York, NY   \n",
       "1             ManTech\\n4.2  Chantilly, VA             Herndon, VA   \n",
       "2      Analysis Group\\n3.8     Boston, MA              Boston, MA   \n",
       "3             INFICON\\n3.5     Newton, MA  Bad Ragaz, Switzerland   \n",
       "4  Affinity Solutions\\n2.9   New York, NY            New York, NY   \n",
       "\n",
       "                      Size Founded        Type of ownership  \\\n",
       "0   1001 to 5000 employees    1993   Nonprofit Organization   \n",
       "1  5001 to 10000 employees    1968         Company - Public   \n",
       "2   1001 to 5000 employees    1981  Private Practice / Firm   \n",
       "3    501 to 1000 employees    2000         Company - Public   \n",
       "4      51 to 200 employees    1998        Company - Private   \n",
       "\n",
       "                                Industry             Sector  \\\n",
       "0                     Insurance Carriers          Insurance   \n",
       "1                 Research & Development  Business Services   \n",
       "2                             Consulting  Business Services   \n",
       "3  Electrical & Electronic Manufacturing      Manufacturing   \n",
       "4                Advertising & Marketing  Business Services   \n",
       "\n",
       "                      Revenue  \\\n",
       "0      $1 to $2 billion (USD)   \n",
       "1      $1 to $2 billion (USD)   \n",
       "2  $100 to $500 million (USD)   \n",
       "3  $100 to $500 million (USD)   \n",
       "4      $1 to $2 billion (USD)   \n",
       "\n",
       "                                         Competitors min_salary max_salary  \n",
       "0            EmblemHealth, UnitedHealth Group, Aetna        137       171   \n",
       "1                         $100 to $500 million (USD)        137       171   \n",
       "2                         $100 to $500 million (USD)        137       171   \n",
       "3  MKS Instruments, Pfeiffer Vacuum, Agilent Tech...        137       171   \n",
       "4               Commerce Signals, Cardlytics, Yodlee        137       171   "
      ]
     },
     "execution_count": 34,
     "metadata": {},
     "output_type": "execute_result"
    }
   ],
   "source": [
    "data.head()"
   ]
  },
  {
   "cell_type": "markdown",
   "id": "6aac5389",
   "metadata": {},
   "source": [
    "Checking the data type of the values in the 'min_salary' column "
   ]
  },
  {
   "cell_type": "code",
   "execution_count": 35,
   "id": "65dc20a9",
   "metadata": {},
   "outputs": [
    {
     "data": {
      "text/plain": [
       "dtype('O')"
      ]
     },
     "execution_count": 35,
     "metadata": {},
     "output_type": "execute_result"
    }
   ],
   "source": [
    "data['min_salary'].dtype"
   ]
  },
  {
   "cell_type": "markdown",
   "id": "3d5eb856",
   "metadata": {},
   "source": [
    "Exploring the distribution of salary values in the 'min_salary' column, and identifying any unusual or unexpected values."
   ]
  },
  {
   "cell_type": "code",
   "execution_count": 36,
   "id": "9b9ef8e5",
   "metadata": {},
   "outputs": [
    {
     "data": {
      "text/plain": [
       "array(['137', '75', '79', '99', '90', '101', '56', '71', '91', '141',\n",
       "       '145', '122', '112', '110', '124', '69', '31', '95', '212', '66',\n",
       "       '128', '138', '80', '87', '92', '105'], dtype=object)"
      ]
     },
     "execution_count": 36,
     "metadata": {},
     "output_type": "execute_result"
    }
   ],
   "source": [
    "data['min_salary'].unique()"
   ]
  },
  {
   "cell_type": "markdown",
   "id": "fe9594ac",
   "metadata": {},
   "source": [
    "Exploring the distribution of salary values in the 'max_salary' column, and identifying any unusual or unexpected values."
   ]
  },
  {
   "cell_type": "code",
   "execution_count": 37,
   "id": "4ccbc0c6",
   "metadata": {
    "scrolled": true
   },
   "outputs": [
    {
     "data": {
      "text/plain": [
       "array(['171 ', '131 ', '132 ', '109 ', '165 ', '97 ', '106 ', '123 ',\n",
       "       '124 ', '150 ', '225 ', '225', '147 ', '146 ', '116 ', '163 ',\n",
       "       '198 ', '133 ', '56 ', '119 ', '331 ', '112 ', '201 ', '158 ',\n",
       "       '141 ', '155 ', '167 '], dtype=object)"
      ]
     },
     "execution_count": 37,
     "metadata": {},
     "output_type": "execute_result"
    }
   ],
   "source": [
    "data['max_salary'].unique()"
   ]
  },
  {
   "cell_type": "markdown",
   "id": "73a5c2b1",
   "metadata": {},
   "source": [
    "Converting the values in the 'max_salary' & 'min_salary' column to an integer data type."
   ]
  },
  {
   "cell_type": "code",
   "execution_count": 38,
   "id": "be06cce0",
   "metadata": {},
   "outputs": [],
   "source": [
    "data['max_salary'] = data['max_salary'].astype(int)"
   ]
  },
  {
   "cell_type": "code",
   "execution_count": 39,
   "id": "f4217f7a",
   "metadata": {},
   "outputs": [],
   "source": [
    "data['min_salary'] = data['min_salary'].astype(int)"
   ]
  },
  {
   "cell_type": "code",
   "execution_count": 40,
   "id": "43064ee9",
   "metadata": {},
   "outputs": [
    {
     "data": {
      "text/plain": [
       "index                 int64\n",
       "Job Title            object\n",
       "Salary Estimate      object\n",
       "Job Description      object\n",
       "Rating               object\n",
       "Company Name         object\n",
       "Location             object\n",
       "Headquarters         object\n",
       "Size                 object\n",
       "Founded              object\n",
       "Type of ownership    object\n",
       "Industry             object\n",
       "Sector               object\n",
       "Revenue              object\n",
       "Competitors          object\n",
       "min_salary            int32\n",
       "max_salary            int32\n",
       "dtype: object"
      ]
     },
     "execution_count": 40,
     "metadata": {},
     "output_type": "execute_result"
    }
   ],
   "source": [
    "data.dtypes"
   ]
  },
  {
   "cell_type": "markdown",
   "id": "06a152cc",
   "metadata": {},
   "source": [
    "Changing some data types Revenue"
   ]
  },
  {
   "cell_type": "code",
   "execution_count": 41,
   "id": "6e276ad3",
   "metadata": {},
   "outputs": [
    {
     "data": {
      "text/plain": [
       "index                  int64\n",
       "Job Title             object\n",
       "Salary Estimate       object\n",
       "Job Description       object\n",
       "Rating                object\n",
       "Company Name          object\n",
       "Location              object\n",
       "Headquarters          object\n",
       "Size                  object\n",
       "Founded               object\n",
       "Type of ownership     object\n",
       "Industry              object\n",
       "Sector                object\n",
       "Revenue              float64\n",
       "Competitors           object\n",
       "min_salary             int32\n",
       "max_salary             int32\n",
       "dtype: object"
      ]
     },
     "execution_count": 41,
     "metadata": {},
     "output_type": "execute_result"
    }
   ],
   "source": [
    "data['Revenue'] = data['Revenue'].astype(str).str.replace('[\\$,]', '', regex=True)\n",
    "data['Revenue'] = pd.to_numeric(data['Revenue'], errors='coerce')\n",
    "data.dtypes"
   ]
  },
  {
   "cell_type": "markdown",
   "id": "477f51e3",
   "metadata": {},
   "source": [
    "Computing the average salary for each job posting "
   ]
  },
  {
   "cell_type": "code",
   "execution_count": 42,
   "id": "daf204bc",
   "metadata": {},
   "outputs": [],
   "source": [
    "data['avg_salary'] = (data['min_salary']+data['max_salary'])/2"
   ]
  },
  {
   "cell_type": "markdown",
   "id": "3b9815d5",
   "metadata": {},
   "source": [
    "Checking for the last five rows of the data"
   ]
  },
  {
   "cell_type": "code",
   "execution_count": 43,
   "id": "92f0c5ee",
   "metadata": {
    "scrolled": true
   },
   "outputs": [
    {
     "data": {
      "text/html": [
       "<div>\n",
       "<style scoped>\n",
       "    .dataframe tbody tr th:only-of-type {\n",
       "        vertical-align: middle;\n",
       "    }\n",
       "\n",
       "    .dataframe tbody tr th {\n",
       "        vertical-align: top;\n",
       "    }\n",
       "\n",
       "    .dataframe thead th {\n",
       "        text-align: right;\n",
       "    }\n",
       "</style>\n",
       "<table border=\"1\" class=\"dataframe\">\n",
       "  <thead>\n",
       "    <tr style=\"text-align: right;\">\n",
       "      <th></th>\n",
       "      <th>index</th>\n",
       "      <th>Job Title</th>\n",
       "      <th>Salary Estimate</th>\n",
       "      <th>Job Description</th>\n",
       "      <th>Rating</th>\n",
       "      <th>Company Name</th>\n",
       "      <th>Location</th>\n",
       "      <th>Headquarters</th>\n",
       "      <th>Size</th>\n",
       "      <th>Founded</th>\n",
       "      <th>Type of ownership</th>\n",
       "      <th>Industry</th>\n",
       "      <th>Sector</th>\n",
       "      <th>Revenue</th>\n",
       "      <th>Competitors</th>\n",
       "      <th>min_salary</th>\n",
       "      <th>max_salary</th>\n",
       "      <th>avg_salary</th>\n",
       "    </tr>\n",
       "  </thead>\n",
       "  <tbody>\n",
       "    <tr>\n",
       "      <th>0</th>\n",
       "      <td>0</td>\n",
       "      <td>Sr Data Scientist</td>\n",
       "      <td>$137K-$171K (Glassdoor est.)</td>\n",
       "      <td>Description\\n\\nThe Senior Data Scientist is re...</td>\n",
       "      <td>3.1</td>\n",
       "      <td>Healthfirst\\n3.1</td>\n",
       "      <td>New York, NY</td>\n",
       "      <td>New York, NY</td>\n",
       "      <td>1001 to 5000 employees</td>\n",
       "      <td>1993</td>\n",
       "      <td>Nonprofit Organization</td>\n",
       "      <td>Insurance Carriers</td>\n",
       "      <td>Insurance</td>\n",
       "      <td>NaN</td>\n",
       "      <td>EmblemHealth, UnitedHealth Group, Aetna</td>\n",
       "      <td>137</td>\n",
       "      <td>171</td>\n",
       "      <td>154.0</td>\n",
       "    </tr>\n",
       "    <tr>\n",
       "      <th>1</th>\n",
       "      <td>1</td>\n",
       "      <td>Data Scientist</td>\n",
       "      <td>$137K-$171K (Glassdoor est.)</td>\n",
       "      <td>Secure our Nation, Ignite your Future\\n\\nJoin ...</td>\n",
       "      <td>4.2</td>\n",
       "      <td>ManTech\\n4.2</td>\n",
       "      <td>Chantilly, VA</td>\n",
       "      <td>Herndon, VA</td>\n",
       "      <td>5001 to 10000 employees</td>\n",
       "      <td>1968</td>\n",
       "      <td>Company - Public</td>\n",
       "      <td>Research &amp; Development</td>\n",
       "      <td>Business Services</td>\n",
       "      <td>NaN</td>\n",
       "      <td>$100 to $500 million (USD)</td>\n",
       "      <td>137</td>\n",
       "      <td>171</td>\n",
       "      <td>154.0</td>\n",
       "    </tr>\n",
       "    <tr>\n",
       "      <th>2</th>\n",
       "      <td>2</td>\n",
       "      <td>Data Scientist</td>\n",
       "      <td>$137K-$171K (Glassdoor est.)</td>\n",
       "      <td>Overview\\n\\n\\nAnalysis Group is one of the lar...</td>\n",
       "      <td>3.8</td>\n",
       "      <td>Analysis Group\\n3.8</td>\n",
       "      <td>Boston, MA</td>\n",
       "      <td>Boston, MA</td>\n",
       "      <td>1001 to 5000 employees</td>\n",
       "      <td>1981</td>\n",
       "      <td>Private Practice / Firm</td>\n",
       "      <td>Consulting</td>\n",
       "      <td>Business Services</td>\n",
       "      <td>NaN</td>\n",
       "      <td>$100 to $500 million (USD)</td>\n",
       "      <td>137</td>\n",
       "      <td>171</td>\n",
       "      <td>154.0</td>\n",
       "    </tr>\n",
       "    <tr>\n",
       "      <th>3</th>\n",
       "      <td>3</td>\n",
       "      <td>Data Scientist</td>\n",
       "      <td>$137K-$171K (Glassdoor est.)</td>\n",
       "      <td>JOB DESCRIPTION:\\n\\nDo you have a passion for ...</td>\n",
       "      <td>3.5</td>\n",
       "      <td>INFICON\\n3.5</td>\n",
       "      <td>Newton, MA</td>\n",
       "      <td>Bad Ragaz, Switzerland</td>\n",
       "      <td>501 to 1000 employees</td>\n",
       "      <td>2000</td>\n",
       "      <td>Company - Public</td>\n",
       "      <td>Electrical &amp; Electronic Manufacturing</td>\n",
       "      <td>Manufacturing</td>\n",
       "      <td>NaN</td>\n",
       "      <td>MKS Instruments, Pfeiffer Vacuum, Agilent Tech...</td>\n",
       "      <td>137</td>\n",
       "      <td>171</td>\n",
       "      <td>154.0</td>\n",
       "    </tr>\n",
       "    <tr>\n",
       "      <th>4</th>\n",
       "      <td>4</td>\n",
       "      <td>Data Scientist</td>\n",
       "      <td>$137K-$171K (Glassdoor est.)</td>\n",
       "      <td>Data Scientist\\nAffinity Solutions / Marketing...</td>\n",
       "      <td>2.9</td>\n",
       "      <td>Affinity Solutions\\n2.9</td>\n",
       "      <td>New York, NY</td>\n",
       "      <td>New York, NY</td>\n",
       "      <td>51 to 200 employees</td>\n",
       "      <td>1998</td>\n",
       "      <td>Company - Private</td>\n",
       "      <td>Advertising &amp; Marketing</td>\n",
       "      <td>Business Services</td>\n",
       "      <td>NaN</td>\n",
       "      <td>Commerce Signals, Cardlytics, Yodlee</td>\n",
       "      <td>137</td>\n",
       "      <td>171</td>\n",
       "      <td>154.0</td>\n",
       "    </tr>\n",
       "  </tbody>\n",
       "</table>\n",
       "</div>"
      ],
      "text/plain": [
       "   index          Job Title               Salary Estimate  \\\n",
       "0      0  Sr Data Scientist  $137K-$171K (Glassdoor est.)   \n",
       "1      1     Data Scientist  $137K-$171K (Glassdoor est.)   \n",
       "2      2     Data Scientist  $137K-$171K (Glassdoor est.)   \n",
       "3      3     Data Scientist  $137K-$171K (Glassdoor est.)   \n",
       "4      4     Data Scientist  $137K-$171K (Glassdoor est.)   \n",
       "\n",
       "                                     Job Description Rating  \\\n",
       "0  Description\\n\\nThe Senior Data Scientist is re...    3.1   \n",
       "1  Secure our Nation, Ignite your Future\\n\\nJoin ...    4.2   \n",
       "2  Overview\\n\\n\\nAnalysis Group is one of the lar...    3.8   \n",
       "3  JOB DESCRIPTION:\\n\\nDo you have a passion for ...    3.5   \n",
       "4  Data Scientist\\nAffinity Solutions / Marketing...    2.9   \n",
       "\n",
       "              Company Name       Location            Headquarters  \\\n",
       "0         Healthfirst\\n3.1   New York, NY            New York, NY   \n",
       "1             ManTech\\n4.2  Chantilly, VA             Herndon, VA   \n",
       "2      Analysis Group\\n3.8     Boston, MA              Boston, MA   \n",
       "3             INFICON\\n3.5     Newton, MA  Bad Ragaz, Switzerland   \n",
       "4  Affinity Solutions\\n2.9   New York, NY            New York, NY   \n",
       "\n",
       "                      Size Founded        Type of ownership  \\\n",
       "0   1001 to 5000 employees    1993   Nonprofit Organization   \n",
       "1  5001 to 10000 employees    1968         Company - Public   \n",
       "2   1001 to 5000 employees    1981  Private Practice / Firm   \n",
       "3    501 to 1000 employees    2000         Company - Public   \n",
       "4      51 to 200 employees    1998        Company - Private   \n",
       "\n",
       "                                Industry             Sector  Revenue  \\\n",
       "0                     Insurance Carriers          Insurance      NaN   \n",
       "1                 Research & Development  Business Services      NaN   \n",
       "2                             Consulting  Business Services      NaN   \n",
       "3  Electrical & Electronic Manufacturing      Manufacturing      NaN   \n",
       "4                Advertising & Marketing  Business Services      NaN   \n",
       "\n",
       "                                         Competitors  min_salary  max_salary  \\\n",
       "0            EmblemHealth, UnitedHealth Group, Aetna         137         171   \n",
       "1                         $100 to $500 million (USD)         137         171   \n",
       "2                         $100 to $500 million (USD)         137         171   \n",
       "3  MKS Instruments, Pfeiffer Vacuum, Agilent Tech...         137         171   \n",
       "4               Commerce Signals, Cardlytics, Yodlee         137         171   \n",
       "\n",
       "   avg_salary  \n",
       "0       154.0  \n",
       "1       154.0  \n",
       "2       154.0  \n",
       "3       154.0  \n",
       "4       154.0  "
      ]
     },
     "execution_count": 43,
     "metadata": {},
     "output_type": "execute_result"
    }
   ],
   "source": [
    "data.head()"
   ]
  },
  {
   "cell_type": "markdown",
   "id": "438d002a",
   "metadata": {},
   "source": [
    "Changing some data types avg_salary"
   ]
  },
  {
   "cell_type": "code",
   "execution_count": 44,
   "id": "b60cce75",
   "metadata": {},
   "outputs": [
    {
     "data": {
      "text/plain": [
       "index                  int64\n",
       "Job Title             object\n",
       "Salary Estimate       object\n",
       "Job Description       object\n",
       "Rating                object\n",
       "Company Name          object\n",
       "Location              object\n",
       "Headquarters          object\n",
       "Size                  object\n",
       "Founded               object\n",
       "Type of ownership     object\n",
       "Industry              object\n",
       "Sector                object\n",
       "Revenue              float64\n",
       "Competitors           object\n",
       "min_salary             int32\n",
       "max_salary             int32\n",
       "avg_salary             int32\n",
       "dtype: object"
      ]
     },
     "execution_count": 44,
     "metadata": {},
     "output_type": "execute_result"
    }
   ],
   "source": [
    "data['avg_salary'] = data['avg_salary'].astype(int)\n",
    "data.dtypes"
   ]
  },
  {
   "cell_type": "markdown",
   "id": "7ab7e6b6",
   "metadata": {},
   "source": [
    "Finding the data type of the values in the 'avg_salary' column."
   ]
  },
  {
   "cell_type": "code",
   "execution_count": 45,
   "id": "9b1efe03",
   "metadata": {},
   "outputs": [
    {
     "data": {
      "text/plain": [
       "dtype('int32')"
      ]
     },
     "execution_count": 45,
     "metadata": {},
     "output_type": "execute_result"
    }
   ],
   "source": [
    "data['avg_salary'].dtype"
   ]
  },
  {
   "cell_type": "markdown",
   "id": "f032dd9e",
   "metadata": {},
   "source": [
    "Count of the number of job listings associated with each company "
   ]
  },
  {
   "cell_type": "code",
   "execution_count": 46,
   "id": "4c55eac6",
   "metadata": {},
   "outputs": [
    {
     "data": {
      "text/plain": [
       "Hatch Data Inc                      12\n",
       "Maxar Technologies\\n3.5             12\n",
       "Tempus Labs\\n3.3                    11\n",
       "AstraZeneca\\n4.0                    10\n",
       "Klaviyo\\n4.8                         8\n",
       "                                    ..\n",
       "Better Hire\\n4.0                     1\n",
       "Rincon Research Corporation\\n4.2     1\n",
       "Descript\\n4.3                        1\n",
       "Trace Data\\n3.9                      1\n",
       "ChaTeck Incorporated\\n5.0            1\n",
       "Name: Company Name, Length: 432, dtype: int64"
      ]
     },
     "execution_count": 46,
     "metadata": {},
     "output_type": "execute_result"
    }
   ],
   "source": [
    "data['Company Name'].value_counts()"
   ]
  },
  {
   "cell_type": "markdown",
   "id": "9700872f",
   "metadata": {},
   "source": [
    "Identifying companies with lower ratings"
   ]
  },
  {
   "cell_type": "code",
   "execution_count": 47,
   "id": "955eeae0",
   "metadata": {},
   "outputs": [
    {
     "data": {
      "text/html": [
       "<div>\n",
       "<style scoped>\n",
       "    .dataframe tbody tr th:only-of-type {\n",
       "        vertical-align: middle;\n",
       "    }\n",
       "\n",
       "    .dataframe tbody tr th {\n",
       "        vertical-align: top;\n",
       "    }\n",
       "\n",
       "    .dataframe thead th {\n",
       "        text-align: right;\n",
       "    }\n",
       "</style>\n",
       "<table border=\"1\" class=\"dataframe\">\n",
       "  <thead>\n",
       "    <tr style=\"text-align: right;\">\n",
       "      <th></th>\n",
       "      <th>Company Name</th>\n",
       "      <th>Rating</th>\n",
       "    </tr>\n",
       "  </thead>\n",
       "  <tbody>\n",
       "    <tr>\n",
       "      <th>457</th>\n",
       "      <td>Stride Search</td>\n",
       "      <td>$100 to $500 million (USD)</td>\n",
       "    </tr>\n",
       "    <tr>\n",
       "      <th>425</th>\n",
       "      <td>Microagility</td>\n",
       "      <td>$100 to $500 million (USD)</td>\n",
       "    </tr>\n",
       "    <tr>\n",
       "      <th>351</th>\n",
       "      <td>Point72 Ventures</td>\n",
       "      <td>$100 to $500 million (USD)</td>\n",
       "    </tr>\n",
       "    <tr>\n",
       "      <th>504</th>\n",
       "      <td>Sophinea</td>\n",
       "      <td>$100 to $500 million (USD)</td>\n",
       "    </tr>\n",
       "    <tr>\n",
       "      <th>500</th>\n",
       "      <td>Hatch Data Inc</td>\n",
       "      <td>$100 to $500 million (USD)</td>\n",
       "    </tr>\n",
       "    <tr>\n",
       "      <th>499</th>\n",
       "      <td>Hatch Data Inc</td>\n",
       "      <td>$100 to $500 million (USD)</td>\n",
       "    </tr>\n",
       "    <tr>\n",
       "      <th>357</th>\n",
       "      <td>Hatch Data Inc</td>\n",
       "      <td>$100 to $500 million (USD)</td>\n",
       "    </tr>\n",
       "    <tr>\n",
       "      <th>358</th>\n",
       "      <td>Hatch Data Inc</td>\n",
       "      <td>$100 to $500 million (USD)</td>\n",
       "    </tr>\n",
       "    <tr>\n",
       "      <th>498</th>\n",
       "      <td>Hatch Data Inc</td>\n",
       "      <td>$100 to $500 million (USD)</td>\n",
       "    </tr>\n",
       "    <tr>\n",
       "      <th>497</th>\n",
       "      <td>Hatch Data Inc</td>\n",
       "      <td>$100 to $500 million (USD)</td>\n",
       "    </tr>\n",
       "    <tr>\n",
       "      <th>496</th>\n",
       "      <td>Hatch Data Inc</td>\n",
       "      <td>$100 to $500 million (USD)</td>\n",
       "    </tr>\n",
       "    <tr>\n",
       "      <th>495</th>\n",
       "      <td>Hatch Data Inc</td>\n",
       "      <td>$100 to $500 million (USD)</td>\n",
       "    </tr>\n",
       "    <tr>\n",
       "      <th>524</th>\n",
       "      <td>CompuForce</td>\n",
       "      <td>$100 to $500 million (USD)</td>\n",
       "    </tr>\n",
       "    <tr>\n",
       "      <th>359</th>\n",
       "      <td>Hatch Data Inc</td>\n",
       "      <td>$100 to $500 million (USD)</td>\n",
       "    </tr>\n",
       "    <tr>\n",
       "      <th>361</th>\n",
       "      <td>Hatch Data Inc</td>\n",
       "      <td>$100 to $500 million (USD)</td>\n",
       "    </tr>\n",
       "    <tr>\n",
       "      <th>362</th>\n",
       "      <td>Hatch Data Inc</td>\n",
       "      <td>$100 to $500 million (USD)</td>\n",
       "    </tr>\n",
       "    <tr>\n",
       "      <th>459</th>\n",
       "      <td>Blue Cloak LLC</td>\n",
       "      <td>$100 to $500 million (USD)</td>\n",
       "    </tr>\n",
       "    <tr>\n",
       "      <th>388</th>\n",
       "      <td>HireAi</td>\n",
       "      <td>$100 to $500 million (USD)</td>\n",
       "    </tr>\n",
       "    <tr>\n",
       "      <th>389</th>\n",
       "      <td>HireAi</td>\n",
       "      <td>$100 to $500 million (USD)</td>\n",
       "    </tr>\n",
       "    <tr>\n",
       "      <th>440</th>\n",
       "      <td>Sonde Health</td>\n",
       "      <td>$100 to $500 million (USD)</td>\n",
       "    </tr>\n",
       "  </tbody>\n",
       "</table>\n",
       "</div>"
      ],
      "text/plain": [
       "         Company Name                      Rating\n",
       "457     Stride Search  $100 to $500 million (USD)\n",
       "425      Microagility  $100 to $500 million (USD)\n",
       "351  Point72 Ventures  $100 to $500 million (USD)\n",
       "504          Sophinea  $100 to $500 million (USD)\n",
       "500    Hatch Data Inc  $100 to $500 million (USD)\n",
       "499    Hatch Data Inc  $100 to $500 million (USD)\n",
       "357    Hatch Data Inc  $100 to $500 million (USD)\n",
       "358    Hatch Data Inc  $100 to $500 million (USD)\n",
       "498    Hatch Data Inc  $100 to $500 million (USD)\n",
       "497    Hatch Data Inc  $100 to $500 million (USD)\n",
       "496    Hatch Data Inc  $100 to $500 million (USD)\n",
       "495    Hatch Data Inc  $100 to $500 million (USD)\n",
       "524        CompuForce  $100 to $500 million (USD)\n",
       "359    Hatch Data Inc  $100 to $500 million (USD)\n",
       "361    Hatch Data Inc  $100 to $500 million (USD)\n",
       "362    Hatch Data Inc  $100 to $500 million (USD)\n",
       "459    Blue Cloak LLC  $100 to $500 million (USD)\n",
       "388            HireAi  $100 to $500 million (USD)\n",
       "389            HireAi  $100 to $500 million (USD)\n",
       "440      Sonde Health  $100 to $500 million (USD)"
      ]
     },
     "execution_count": 47,
     "metadata": {},
     "output_type": "execute_result"
    }
   ],
   "source": [
    "data[['Company Name','Rating']].sort_values(by = 'Rating' , ascending=True).head(20)"
   ]
  },
  {
   "cell_type": "markdown",
   "id": "a8d359ca",
   "metadata": {},
   "source": [
    "Cleaning and standardizing the company names, by removing all additional text that appears after the company name"
   ]
  },
  {
   "cell_type": "code",
   "execution_count": 48,
   "id": "69e98446",
   "metadata": {},
   "outputs": [],
   "source": [
    "data['Rating'] = pd.to_numeric(data['Rating'], errors='coerce')\n",
    "data['company_txt'] = data.apply(lambda x : x['Company Name'] if x['Rating']< 0 else  x['Company Name'][:-4], axis=1)\n"
   ]
  },
  {
   "cell_type": "markdown",
   "id": "0f5ee9e1",
   "metadata": {},
   "source": [
    "Checking for first 5 rows of the data"
   ]
  },
  {
   "cell_type": "code",
   "execution_count": 49,
   "id": "dc2ef27d",
   "metadata": {
    "scrolled": true
   },
   "outputs": [
    {
     "data": {
      "text/html": [
       "<div>\n",
       "<style scoped>\n",
       "    .dataframe tbody tr th:only-of-type {\n",
       "        vertical-align: middle;\n",
       "    }\n",
       "\n",
       "    .dataframe tbody tr th {\n",
       "        vertical-align: top;\n",
       "    }\n",
       "\n",
       "    .dataframe thead th {\n",
       "        text-align: right;\n",
       "    }\n",
       "</style>\n",
       "<table border=\"1\" class=\"dataframe\">\n",
       "  <thead>\n",
       "    <tr style=\"text-align: right;\">\n",
       "      <th></th>\n",
       "      <th>index</th>\n",
       "      <th>Job Title</th>\n",
       "      <th>Salary Estimate</th>\n",
       "      <th>Job Description</th>\n",
       "      <th>Rating</th>\n",
       "      <th>Company Name</th>\n",
       "      <th>Location</th>\n",
       "      <th>Headquarters</th>\n",
       "      <th>Size</th>\n",
       "      <th>Founded</th>\n",
       "      <th>Type of ownership</th>\n",
       "      <th>Industry</th>\n",
       "      <th>Sector</th>\n",
       "      <th>Revenue</th>\n",
       "      <th>Competitors</th>\n",
       "      <th>min_salary</th>\n",
       "      <th>max_salary</th>\n",
       "      <th>avg_salary</th>\n",
       "      <th>company_txt</th>\n",
       "    </tr>\n",
       "  </thead>\n",
       "  <tbody>\n",
       "    <tr>\n",
       "      <th>0</th>\n",
       "      <td>0</td>\n",
       "      <td>Sr Data Scientist</td>\n",
       "      <td>$137K-$171K (Glassdoor est.)</td>\n",
       "      <td>Description\\n\\nThe Senior Data Scientist is re...</td>\n",
       "      <td>3.1</td>\n",
       "      <td>Healthfirst\\n3.1</td>\n",
       "      <td>New York, NY</td>\n",
       "      <td>New York, NY</td>\n",
       "      <td>1001 to 5000 employees</td>\n",
       "      <td>1993</td>\n",
       "      <td>Nonprofit Organization</td>\n",
       "      <td>Insurance Carriers</td>\n",
       "      <td>Insurance</td>\n",
       "      <td>NaN</td>\n",
       "      <td>EmblemHealth, UnitedHealth Group, Aetna</td>\n",
       "      <td>137</td>\n",
       "      <td>171</td>\n",
       "      <td>154</td>\n",
       "      <td>Healthfirst</td>\n",
       "    </tr>\n",
       "    <tr>\n",
       "      <th>1</th>\n",
       "      <td>1</td>\n",
       "      <td>Data Scientist</td>\n",
       "      <td>$137K-$171K (Glassdoor est.)</td>\n",
       "      <td>Secure our Nation, Ignite your Future\\n\\nJoin ...</td>\n",
       "      <td>4.2</td>\n",
       "      <td>ManTech\\n4.2</td>\n",
       "      <td>Chantilly, VA</td>\n",
       "      <td>Herndon, VA</td>\n",
       "      <td>5001 to 10000 employees</td>\n",
       "      <td>1968</td>\n",
       "      <td>Company - Public</td>\n",
       "      <td>Research &amp; Development</td>\n",
       "      <td>Business Services</td>\n",
       "      <td>NaN</td>\n",
       "      <td>$100 to $500 million (USD)</td>\n",
       "      <td>137</td>\n",
       "      <td>171</td>\n",
       "      <td>154</td>\n",
       "      <td>ManTech</td>\n",
       "    </tr>\n",
       "    <tr>\n",
       "      <th>2</th>\n",
       "      <td>2</td>\n",
       "      <td>Data Scientist</td>\n",
       "      <td>$137K-$171K (Glassdoor est.)</td>\n",
       "      <td>Overview\\n\\n\\nAnalysis Group is one of the lar...</td>\n",
       "      <td>3.8</td>\n",
       "      <td>Analysis Group\\n3.8</td>\n",
       "      <td>Boston, MA</td>\n",
       "      <td>Boston, MA</td>\n",
       "      <td>1001 to 5000 employees</td>\n",
       "      <td>1981</td>\n",
       "      <td>Private Practice / Firm</td>\n",
       "      <td>Consulting</td>\n",
       "      <td>Business Services</td>\n",
       "      <td>NaN</td>\n",
       "      <td>$100 to $500 million (USD)</td>\n",
       "      <td>137</td>\n",
       "      <td>171</td>\n",
       "      <td>154</td>\n",
       "      <td>Analysis Group</td>\n",
       "    </tr>\n",
       "    <tr>\n",
       "      <th>3</th>\n",
       "      <td>3</td>\n",
       "      <td>Data Scientist</td>\n",
       "      <td>$137K-$171K (Glassdoor est.)</td>\n",
       "      <td>JOB DESCRIPTION:\\n\\nDo you have a passion for ...</td>\n",
       "      <td>3.5</td>\n",
       "      <td>INFICON\\n3.5</td>\n",
       "      <td>Newton, MA</td>\n",
       "      <td>Bad Ragaz, Switzerland</td>\n",
       "      <td>501 to 1000 employees</td>\n",
       "      <td>2000</td>\n",
       "      <td>Company - Public</td>\n",
       "      <td>Electrical &amp; Electronic Manufacturing</td>\n",
       "      <td>Manufacturing</td>\n",
       "      <td>NaN</td>\n",
       "      <td>MKS Instruments, Pfeiffer Vacuum, Agilent Tech...</td>\n",
       "      <td>137</td>\n",
       "      <td>171</td>\n",
       "      <td>154</td>\n",
       "      <td>INFICON</td>\n",
       "    </tr>\n",
       "    <tr>\n",
       "      <th>4</th>\n",
       "      <td>4</td>\n",
       "      <td>Data Scientist</td>\n",
       "      <td>$137K-$171K (Glassdoor est.)</td>\n",
       "      <td>Data Scientist\\nAffinity Solutions / Marketing...</td>\n",
       "      <td>2.9</td>\n",
       "      <td>Affinity Solutions\\n2.9</td>\n",
       "      <td>New York, NY</td>\n",
       "      <td>New York, NY</td>\n",
       "      <td>51 to 200 employees</td>\n",
       "      <td>1998</td>\n",
       "      <td>Company - Private</td>\n",
       "      <td>Advertising &amp; Marketing</td>\n",
       "      <td>Business Services</td>\n",
       "      <td>NaN</td>\n",
       "      <td>Commerce Signals, Cardlytics, Yodlee</td>\n",
       "      <td>137</td>\n",
       "      <td>171</td>\n",
       "      <td>154</td>\n",
       "      <td>Affinity Solutions</td>\n",
       "    </tr>\n",
       "  </tbody>\n",
       "</table>\n",
       "</div>"
      ],
      "text/plain": [
       "   index          Job Title               Salary Estimate  \\\n",
       "0      0  Sr Data Scientist  $137K-$171K (Glassdoor est.)   \n",
       "1      1     Data Scientist  $137K-$171K (Glassdoor est.)   \n",
       "2      2     Data Scientist  $137K-$171K (Glassdoor est.)   \n",
       "3      3     Data Scientist  $137K-$171K (Glassdoor est.)   \n",
       "4      4     Data Scientist  $137K-$171K (Glassdoor est.)   \n",
       "\n",
       "                                     Job Description  Rating  \\\n",
       "0  Description\\n\\nThe Senior Data Scientist is re...     3.1   \n",
       "1  Secure our Nation, Ignite your Future\\n\\nJoin ...     4.2   \n",
       "2  Overview\\n\\n\\nAnalysis Group is one of the lar...     3.8   \n",
       "3  JOB DESCRIPTION:\\n\\nDo you have a passion for ...     3.5   \n",
       "4  Data Scientist\\nAffinity Solutions / Marketing...     2.9   \n",
       "\n",
       "              Company Name       Location            Headquarters  \\\n",
       "0         Healthfirst\\n3.1   New York, NY            New York, NY   \n",
       "1             ManTech\\n4.2  Chantilly, VA             Herndon, VA   \n",
       "2      Analysis Group\\n3.8     Boston, MA              Boston, MA   \n",
       "3             INFICON\\n3.5     Newton, MA  Bad Ragaz, Switzerland   \n",
       "4  Affinity Solutions\\n2.9   New York, NY            New York, NY   \n",
       "\n",
       "                      Size Founded        Type of ownership  \\\n",
       "0   1001 to 5000 employees    1993   Nonprofit Organization   \n",
       "1  5001 to 10000 employees    1968         Company - Public   \n",
       "2   1001 to 5000 employees    1981  Private Practice / Firm   \n",
       "3    501 to 1000 employees    2000         Company - Public   \n",
       "4      51 to 200 employees    1998        Company - Private   \n",
       "\n",
       "                                Industry             Sector  Revenue  \\\n",
       "0                     Insurance Carriers          Insurance      NaN   \n",
       "1                 Research & Development  Business Services      NaN   \n",
       "2                             Consulting  Business Services      NaN   \n",
       "3  Electrical & Electronic Manufacturing      Manufacturing      NaN   \n",
       "4                Advertising & Marketing  Business Services      NaN   \n",
       "\n",
       "                                         Competitors  min_salary  max_salary  \\\n",
       "0            EmblemHealth, UnitedHealth Group, Aetna         137         171   \n",
       "1                         $100 to $500 million (USD)         137         171   \n",
       "2                         $100 to $500 million (USD)         137         171   \n",
       "3  MKS Instruments, Pfeiffer Vacuum, Agilent Tech...         137         171   \n",
       "4               Commerce Signals, Cardlytics, Yodlee         137         171   \n",
       "\n",
       "   avg_salary         company_txt  \n",
       "0         154         Healthfirst  \n",
       "1         154             ManTech  \n",
       "2         154      Analysis Group  \n",
       "3         154             INFICON  \n",
       "4         154  Affinity Solutions  "
      ]
     },
     "execution_count": 49,
     "metadata": {},
     "output_type": "execute_result"
    }
   ],
   "source": [
    "data.head()"
   ]
  },
  {
   "cell_type": "markdown",
   "id": "c0ee1b7a",
   "metadata": {},
   "source": [
    "Understanding the distribution of job postings across different geographic locations. "
   ]
  },
  {
   "cell_type": "code",
   "execution_count": 50,
   "id": "ab7a6ed0",
   "metadata": {},
   "outputs": [
    {
     "data": {
      "text/plain": [
       "San Francisco, CA    69\n",
       "New York, NY         50\n",
       "Washington, DC       26\n",
       "Boston, MA           24\n",
       "Chicago, IL          22\n",
       "                     ..\n",
       "Oshkosh, WI           1\n",
       "Culver City, CA       1\n",
       "Lake Oswego, OR       1\n",
       "New Orleans, LA       1\n",
       "Irwindale, CA         1\n",
       "Name: Location, Length: 207, dtype: int64"
      ]
     },
     "execution_count": 50,
     "metadata": {},
     "output_type": "execute_result"
    }
   ],
   "source": [
    "data['Location'].value_counts()"
   ]
  },
  {
   "cell_type": "markdown",
   "id": "2a6d4333",
   "metadata": {},
   "source": [
    "Distribution of job postings across different geographic locations. "
   ]
  },
  {
   "cell_type": "code",
   "execution_count": 51,
   "id": "aa54ccfd",
   "metadata": {
    "scrolled": true
   },
   "outputs": [],
   "source": [
    "data['job_state'] = data['Location'].apply(lambda x: x.split(',')[1].strip() if len(x.split(',')) > 1 else None)"
   ]
  },
  {
   "cell_type": "code",
   "execution_count": 52,
   "id": "79b20df0",
   "metadata": {},
   "outputs": [
    {
     "data": {
      "text/plain": [
       "0      NY\n",
       "1      VA\n",
       "2      MA\n",
       "3      MA\n",
       "4      NY\n",
       "       ..\n",
       "667    NJ\n",
       "668    CA\n",
       "669    CA\n",
       "670    CA\n",
       "671    NY\n",
       "Name: job_state, Length: 672, dtype: object"
      ]
     },
     "execution_count": 52,
     "metadata": {},
     "output_type": "execute_result"
    }
   ],
   "source": [
    "data['job_state']"
   ]
  },
  {
   "cell_type": "markdown",
   "id": "e04a00e9",
   "metadata": {},
   "source": [
    "Checking for the last five rows of the data"
   ]
  },
  {
   "cell_type": "code",
   "execution_count": 53,
   "id": "22e100fe",
   "metadata": {
    "scrolled": true
   },
   "outputs": [
    {
     "data": {
      "text/html": [
       "<div>\n",
       "<style scoped>\n",
       "    .dataframe tbody tr th:only-of-type {\n",
       "        vertical-align: middle;\n",
       "    }\n",
       "\n",
       "    .dataframe tbody tr th {\n",
       "        vertical-align: top;\n",
       "    }\n",
       "\n",
       "    .dataframe thead th {\n",
       "        text-align: right;\n",
       "    }\n",
       "</style>\n",
       "<table border=\"1\" class=\"dataframe\">\n",
       "  <thead>\n",
       "    <tr style=\"text-align: right;\">\n",
       "      <th></th>\n",
       "      <th>index</th>\n",
       "      <th>Job Title</th>\n",
       "      <th>Salary Estimate</th>\n",
       "      <th>Job Description</th>\n",
       "      <th>Rating</th>\n",
       "      <th>Company Name</th>\n",
       "      <th>Location</th>\n",
       "      <th>Headquarters</th>\n",
       "      <th>Size</th>\n",
       "      <th>Founded</th>\n",
       "      <th>Type of ownership</th>\n",
       "      <th>Industry</th>\n",
       "      <th>Sector</th>\n",
       "      <th>Revenue</th>\n",
       "      <th>Competitors</th>\n",
       "      <th>min_salary</th>\n",
       "      <th>max_salary</th>\n",
       "      <th>avg_salary</th>\n",
       "      <th>company_txt</th>\n",
       "      <th>job_state</th>\n",
       "    </tr>\n",
       "  </thead>\n",
       "  <tbody>\n",
       "    <tr>\n",
       "      <th>667</th>\n",
       "      <td>667</td>\n",
       "      <td>Data Scientist</td>\n",
       "      <td>$105K-$167K (Glassdoor est.)</td>\n",
       "      <td>Summary\\n\\nWeâre looking for a data scientis...</td>\n",
       "      <td>3.6</td>\n",
       "      <td>TRANZACT\\n3.6</td>\n",
       "      <td>Fort Lee, NJ</td>\n",
       "      <td>Fort Lee, NJ</td>\n",
       "      <td>1001 to 5000 employees</td>\n",
       "      <td>1989</td>\n",
       "      <td>Company - Private</td>\n",
       "      <td>Advertising &amp; Marketing</td>\n",
       "      <td>Business Services</td>\n",
       "      <td>NaN</td>\n",
       "      <td>$100 to $500 million (USD)</td>\n",
       "      <td>105</td>\n",
       "      <td>167</td>\n",
       "      <td>136</td>\n",
       "      <td>TRANZACT</td>\n",
       "      <td>NJ</td>\n",
       "    </tr>\n",
       "    <tr>\n",
       "      <th>668</th>\n",
       "      <td>668</td>\n",
       "      <td>Data Scientist</td>\n",
       "      <td>$105K-$167K (Glassdoor est.)</td>\n",
       "      <td>Job Description\\nBecome a thought leader withi...</td>\n",
       "      <td>NaN</td>\n",
       "      <td>JKGT</td>\n",
       "      <td>San Francisco, CA</td>\n",
       "      <td>$100 to $500 million (USD)</td>\n",
       "      <td>1 to 50 employees</td>\n",
       "      <td>$100 to $500 million (USD)</td>\n",
       "      <td>Government</td>\n",
       "      <td>IT Services</td>\n",
       "      <td>Health Care</td>\n",
       "      <td>NaN</td>\n",
       "      <td>$100 to $500 million (USD)</td>\n",
       "      <td>105</td>\n",
       "      <td>167</td>\n",
       "      <td>136</td>\n",
       "      <td></td>\n",
       "      <td>CA</td>\n",
       "    </tr>\n",
       "    <tr>\n",
       "      <th>669</th>\n",
       "      <td>669</td>\n",
       "      <td>Data Scientist</td>\n",
       "      <td>$105K-$167K (Glassdoor est.)</td>\n",
       "      <td>Join a thriving company that is changing the w...</td>\n",
       "      <td>NaN</td>\n",
       "      <td>AccessHope</td>\n",
       "      <td>Irwindale, CA</td>\n",
       "      <td>$100 to $500 million (USD)</td>\n",
       "      <td>1 to 50 employees</td>\n",
       "      <td>$100 to $500 million (USD)</td>\n",
       "      <td>Government</td>\n",
       "      <td>IT Services</td>\n",
       "      <td>Health Care</td>\n",
       "      <td>NaN</td>\n",
       "      <td>$100 to $500 million (USD)</td>\n",
       "      <td>105</td>\n",
       "      <td>167</td>\n",
       "      <td>136</td>\n",
       "      <td>Access</td>\n",
       "      <td>CA</td>\n",
       "    </tr>\n",
       "    <tr>\n",
       "      <th>670</th>\n",
       "      <td>670</td>\n",
       "      <td>Data Scientist</td>\n",
       "      <td>$105K-$167K (Glassdoor est.)</td>\n",
       "      <td>100 Remote Opportunity As an AINLP Data Scient...</td>\n",
       "      <td>5.0</td>\n",
       "      <td>ChaTeck Incorporated\\n5.0</td>\n",
       "      <td>San Francisco, CA</td>\n",
       "      <td>Santa Clara, CA</td>\n",
       "      <td>1 to 50 employees</td>\n",
       "      <td>$100 to $500 million (USD)</td>\n",
       "      <td>Company - Private</td>\n",
       "      <td>Advertising &amp; Marketing</td>\n",
       "      <td>Business Services</td>\n",
       "      <td>NaN</td>\n",
       "      <td>$100 to $500 million (USD)</td>\n",
       "      <td>105</td>\n",
       "      <td>167</td>\n",
       "      <td>136</td>\n",
       "      <td>ChaTeck Incorporated</td>\n",
       "      <td>CA</td>\n",
       "    </tr>\n",
       "    <tr>\n",
       "      <th>671</th>\n",
       "      <td>671</td>\n",
       "      <td>Data Scientist</td>\n",
       "      <td>$105K-$167K (Glassdoor est.)</td>\n",
       "      <td>Description\\n\\nThe Data Scientist will be part...</td>\n",
       "      <td>2.7</td>\n",
       "      <td>1-800-Flowers\\n2.7</td>\n",
       "      <td>New York, NY</td>\n",
       "      <td>Carle Place, NY</td>\n",
       "      <td>1001 to 5000 employees</td>\n",
       "      <td>1976</td>\n",
       "      <td>Company - Public</td>\n",
       "      <td>Wholesale</td>\n",
       "      <td>Business Services</td>\n",
       "      <td>NaN</td>\n",
       "      <td>$100 to $500 million (USD)</td>\n",
       "      <td>105</td>\n",
       "      <td>167</td>\n",
       "      <td>136</td>\n",
       "      <td>1-800-Flowers</td>\n",
       "      <td>NY</td>\n",
       "    </tr>\n",
       "  </tbody>\n",
       "</table>\n",
       "</div>"
      ],
      "text/plain": [
       "     index       Job Title               Salary Estimate  \\\n",
       "667    667  Data Scientist  $105K-$167K (Glassdoor est.)   \n",
       "668    668  Data Scientist  $105K-$167K (Glassdoor est.)   \n",
       "669    669  Data Scientist  $105K-$167K (Glassdoor est.)   \n",
       "670    670  Data Scientist  $105K-$167K (Glassdoor est.)   \n",
       "671    671  Data Scientist  $105K-$167K (Glassdoor est.)   \n",
       "\n",
       "                                       Job Description  Rating  \\\n",
       "667  Summary\\n\\nWeâre looking for a data scientis...     3.6   \n",
       "668  Job Description\\nBecome a thought leader withi...     NaN   \n",
       "669  Join a thriving company that is changing the w...     NaN   \n",
       "670  100 Remote Opportunity As an AINLP Data Scient...     5.0   \n",
       "671  Description\\n\\nThe Data Scientist will be part...     2.7   \n",
       "\n",
       "                  Company Name           Location                Headquarters  \\\n",
       "667              TRANZACT\\n3.6       Fort Lee, NJ                Fort Lee, NJ   \n",
       "668                       JKGT  San Francisco, CA  $100 to $500 million (USD)   \n",
       "669                 AccessHope      Irwindale, CA  $100 to $500 million (USD)   \n",
       "670  ChaTeck Incorporated\\n5.0  San Francisco, CA             Santa Clara, CA   \n",
       "671         1-800-Flowers\\n2.7       New York, NY             Carle Place, NY   \n",
       "\n",
       "                       Size                     Founded  Type of ownership  \\\n",
       "667  1001 to 5000 employees                        1989  Company - Private   \n",
       "668       1 to 50 employees  $100 to $500 million (USD)         Government   \n",
       "669       1 to 50 employees  $100 to $500 million (USD)         Government   \n",
       "670       1 to 50 employees  $100 to $500 million (USD)  Company - Private   \n",
       "671  1001 to 5000 employees                        1976   Company - Public   \n",
       "\n",
       "                    Industry             Sector  Revenue  \\\n",
       "667  Advertising & Marketing  Business Services      NaN   \n",
       "668              IT Services        Health Care      NaN   \n",
       "669              IT Services        Health Care      NaN   \n",
       "670  Advertising & Marketing  Business Services      NaN   \n",
       "671                Wholesale  Business Services      NaN   \n",
       "\n",
       "                    Competitors  min_salary  max_salary  avg_salary  \\\n",
       "667  $100 to $500 million (USD)         105         167         136   \n",
       "668  $100 to $500 million (USD)         105         167         136   \n",
       "669  $100 to $500 million (USD)         105         167         136   \n",
       "670  $100 to $500 million (USD)         105         167         136   \n",
       "671  $100 to $500 million (USD)         105         167         136   \n",
       "\n",
       "              company_txt job_state  \n",
       "667              TRANZACT        NJ  \n",
       "668                              CA  \n",
       "669                Access        CA  \n",
       "670  ChaTeck Incorporated        CA  \n",
       "671         1-800-Flowers        NY  "
      ]
     },
     "execution_count": 53,
     "metadata": {},
     "output_type": "execute_result"
    }
   ],
   "source": [
    "data.tail()"
   ]
  },
  {
   "cell_type": "markdown",
   "id": "974ab2fb",
   "metadata": {},
   "source": [
    "Count of job postings by state"
   ]
  },
  {
   "cell_type": "code",
   "execution_count": 54,
   "id": "ba37b998",
   "metadata": {},
   "outputs": [
    {
     "data": {
      "text/plain": [
       "CA              165\n",
       "VA               89\n",
       "MA               62\n",
       "NY               52\n",
       "MD               39\n",
       "IL               30\n",
       "DC               26\n",
       "TX               17\n",
       "WA               16\n",
       "OH               14\n",
       "MO               12\n",
       "PA               12\n",
       "NJ               10\n",
       "CO               10\n",
       "NC                9\n",
       "GA                9\n",
       "FL                8\n",
       "TN                8\n",
       "OK                6\n",
       "WI                6\n",
       "MI                5\n",
       "IN                5\n",
       "MN                4\n",
       "AL                4\n",
       "CT                4\n",
       "AZ                4\n",
       "UT                3\n",
       "IA                3\n",
       "NE                3\n",
       "OR                2\n",
       "SC                2\n",
       "RI                2\n",
       "NH                2\n",
       "DE                1\n",
       "Anne Arundel      1\n",
       "LA                1\n",
       "MS                1\n",
       "KS                1\n",
       "WV                1\n",
       "Name: job_state, dtype: int64"
      ]
     },
     "execution_count": 54,
     "metadata": {},
     "output_type": "execute_result"
    }
   ],
   "source": [
    "data['job_state'].value_counts()"
   ]
  },
  {
   "cell_type": "markdown",
   "id": "76135474",
   "metadata": {},
   "source": [
    "Computing the age of each company "
   ]
  },
  {
   "cell_type": "code",
   "execution_count": 55,
   "id": "97a4c1d6",
   "metadata": {},
   "outputs": [],
   "source": [
    "data['age'] = data.Founded.apply(lambda x: 2022 - x if isinstance(x, (int, float)) and x > 0 else None)"
   ]
  },
  {
   "cell_type": "markdown",
   "id": "8ee3b2cc",
   "metadata": {},
   "source": [
    "Random sample of rows from the dataset"
   ]
  },
  {
   "cell_type": "code",
   "execution_count": 56,
   "id": "c51c6496",
   "metadata": {},
   "outputs": [
    {
     "data": {
      "text/html": [
       "<div>\n",
       "<style scoped>\n",
       "    .dataframe tbody tr th:only-of-type {\n",
       "        vertical-align: middle;\n",
       "    }\n",
       "\n",
       "    .dataframe tbody tr th {\n",
       "        vertical-align: top;\n",
       "    }\n",
       "\n",
       "    .dataframe thead th {\n",
       "        text-align: right;\n",
       "    }\n",
       "</style>\n",
       "<table border=\"1\" class=\"dataframe\">\n",
       "  <thead>\n",
       "    <tr style=\"text-align: right;\">\n",
       "      <th></th>\n",
       "      <th>index</th>\n",
       "      <th>Job Title</th>\n",
       "      <th>Salary Estimate</th>\n",
       "      <th>Job Description</th>\n",
       "      <th>Rating</th>\n",
       "      <th>Company Name</th>\n",
       "      <th>Location</th>\n",
       "      <th>Headquarters</th>\n",
       "      <th>Size</th>\n",
       "      <th>Founded</th>\n",
       "      <th>...</th>\n",
       "      <th>Industry</th>\n",
       "      <th>Sector</th>\n",
       "      <th>Revenue</th>\n",
       "      <th>Competitors</th>\n",
       "      <th>min_salary</th>\n",
       "      <th>max_salary</th>\n",
       "      <th>avg_salary</th>\n",
       "      <th>company_txt</th>\n",
       "      <th>job_state</th>\n",
       "      <th>age</th>\n",
       "    </tr>\n",
       "  </thead>\n",
       "  <tbody>\n",
       "    <tr>\n",
       "      <th>196</th>\n",
       "      <td>196</td>\n",
       "      <td>Health Plan Data Analyst, Sr</td>\n",
       "      <td>$56K-$97K (Glassdoor est.)</td>\n",
       "      <td>Title: Health Plan Data Analyst, Sr\\n\\nCook Ch...</td>\n",
       "      <td>3.8</td>\n",
       "      <td>Cook Children's Health Care System\\n3.8</td>\n",
       "      <td>Fort Worth, TX</td>\n",
       "      <td>Fort Worth, TX</td>\n",
       "      <td>5001 to 10000 employees</td>\n",
       "      <td>1918</td>\n",
       "      <td>...</td>\n",
       "      <td>Health Care Services &amp; Hospitals</td>\n",
       "      <td>Health Care</td>\n",
       "      <td>NaN</td>\n",
       "      <td>Children's Health, Texas Health Resources, Bay...</td>\n",
       "      <td>56</td>\n",
       "      <td>97</td>\n",
       "      <td>76</td>\n",
       "      <td>Cook Children's Health Care System</td>\n",
       "      <td>TX</td>\n",
       "      <td>None</td>\n",
       "    </tr>\n",
       "  </tbody>\n",
       "</table>\n",
       "<p>1 rows × 21 columns</p>\n",
       "</div>"
      ],
      "text/plain": [
       "     index                     Job Title             Salary Estimate  \\\n",
       "196    196  Health Plan Data Analyst, Sr  $56K-$97K (Glassdoor est.)   \n",
       "\n",
       "                                       Job Description  Rating  \\\n",
       "196  Title: Health Plan Data Analyst, Sr\\n\\nCook Ch...     3.8   \n",
       "\n",
       "                                Company Name        Location    Headquarters  \\\n",
       "196  Cook Children's Health Care System\\n3.8  Fort Worth, TX  Fort Worth, TX   \n",
       "\n",
       "                        Size Founded  ...                          Industry  \\\n",
       "196  5001 to 10000 employees    1918  ...  Health Care Services & Hospitals   \n",
       "\n",
       "          Sector Revenue                                        Competitors  \\\n",
       "196  Health Care     NaN  Children's Health, Texas Health Resources, Bay...   \n",
       "\n",
       "    min_salary  max_salary  avg_salary                         company_txt  \\\n",
       "196         56          97          76  Cook Children's Health Care System   \n",
       "\n",
       "    job_state   age  \n",
       "196        TX  None  \n",
       "\n",
       "[1 rows x 21 columns]"
      ]
     },
     "execution_count": 56,
     "metadata": {},
     "output_type": "execute_result"
    }
   ],
   "source": [
    "data.sample()"
   ]
  },
  {
   "cell_type": "markdown",
   "id": "386f40dc",
   "metadata": {},
   "source": [
    "F 20 rows of the 'Job Description'column"
   ]
  },
  {
   "cell_type": "code",
   "execution_count": 57,
   "id": "fe7dcad9",
   "metadata": {},
   "outputs": [
    {
     "data": {
      "text/plain": [
       "0     Description\\n\\nThe Senior Data Scientist is re...\n",
       "1     Secure our Nation, Ignite your Future\\n\\nJoin ...\n",
       "2     Overview\\n\\n\\nAnalysis Group is one of the lar...\n",
       "3     JOB DESCRIPTION:\\n\\nDo you have a passion for ...\n",
       "4     Data Scientist\\nAffinity Solutions / Marketing...\n",
       "5     About Us:\\n\\nHeadquartered in beautiful Santa ...\n",
       "6     Posting Title\\nData Scientist / Machine Learni...\n",
       "7     Introduction\\n\\nHave you always wanted to run ...\n",
       "8     Intuit is seeking a Staff Data Scientist to co...\n",
       "9     Ready to write the best chapter of your career...\n",
       "10    Join our team dedicated to developing and exec...\n",
       "11    About Us\\n\\n\\nInterested in working for a huma...\n",
       "12    *Organization and Job ID**\\nJob ID: 310918\\n\\n...\n",
       "13    POSITION PURPOSE:\\n\\nThe Data Architect/Data M...\n",
       "14    Position Description:\\n\\nWant to make a differ...\n",
       "15    *******Please Apply using this link: https://a...\n",
       "16    We are an ambitious, well-funded startup with ...\n",
       "17    Job Success Profile\\n\\nData Scientist\\n\\nBuckm...\n",
       "18    The Data Analyst II is responsible for data en...\n",
       "19    Responsibilities\\n\\n\\nThe Medical Laboratory S...\n",
       "Name: Job Description, dtype: object"
      ]
     },
     "execution_count": 57,
     "metadata": {},
     "output_type": "execute_result"
    }
   ],
   "source": [
    "data['Job Description'].head(20)"
   ]
  },
  {
   "cell_type": "markdown",
   "id": "c979920a",
   "metadata": {},
   "source": [
    "Job listings that require Python skills."
   ]
  },
  {
   "cell_type": "code",
   "execution_count": 58,
   "id": "7b236478",
   "metadata": {},
   "outputs": [],
   "source": [
    "data['python_yn'] = data['Job Description'].apply(lambda x: 1 if 'python' in x.lower() else 0)"
   ]
  },
  {
   "cell_type": "code",
   "execution_count": 59,
   "id": "4424851f",
   "metadata": {},
   "outputs": [
    {
     "data": {
      "text/plain": [
       "1    491\n",
       "0    181\n",
       "Name: python_yn, dtype: int64"
      ]
     },
     "execution_count": 59,
     "metadata": {},
     "output_type": "execute_result"
    }
   ],
   "source": [
    "data['python_yn'].value_counts()"
   ]
  },
  {
   "cell_type": "markdown",
   "id": "3698740c",
   "metadata": {},
   "source": [
    "Job listings that require excel skills."
   ]
  },
  {
   "cell_type": "code",
   "execution_count": 60,
   "id": "f51676b3",
   "metadata": {},
   "outputs": [],
   "source": [
    "data['excel'] = data['Job Description'].apply(lambda x: 1 if 'excel' in x.lower() else 0)"
   ]
  },
  {
   "cell_type": "code",
   "execution_count": 61,
   "id": "aad5e496",
   "metadata": {},
   "outputs": [
    {
     "data": {
      "text/plain": [
       "0    376\n",
       "1    296\n",
       "Name: excel, dtype: int64"
      ]
     },
     "execution_count": 61,
     "metadata": {},
     "output_type": "execute_result"
    }
   ],
   "source": [
    "data['excel'].value_counts()"
   ]
  },
  {
   "cell_type": "code",
   "execution_count": 62,
   "id": "0b759f3c",
   "metadata": {
    "scrolled": true
   },
   "outputs": [
    {
     "data": {
      "text/html": [
       "<div>\n",
       "<style scoped>\n",
       "    .dataframe tbody tr th:only-of-type {\n",
       "        vertical-align: middle;\n",
       "    }\n",
       "\n",
       "    .dataframe tbody tr th {\n",
       "        vertical-align: top;\n",
       "    }\n",
       "\n",
       "    .dataframe thead th {\n",
       "        text-align: right;\n",
       "    }\n",
       "</style>\n",
       "<table border=\"1\" class=\"dataframe\">\n",
       "  <thead>\n",
       "    <tr style=\"text-align: right;\">\n",
       "      <th></th>\n",
       "      <th>index</th>\n",
       "      <th>Job Title</th>\n",
       "      <th>Salary Estimate</th>\n",
       "      <th>Job Description</th>\n",
       "      <th>Rating</th>\n",
       "      <th>Company Name</th>\n",
       "      <th>Location</th>\n",
       "      <th>Headquarters</th>\n",
       "      <th>Size</th>\n",
       "      <th>Founded</th>\n",
       "      <th>...</th>\n",
       "      <th>Revenue</th>\n",
       "      <th>Competitors</th>\n",
       "      <th>min_salary</th>\n",
       "      <th>max_salary</th>\n",
       "      <th>avg_salary</th>\n",
       "      <th>company_txt</th>\n",
       "      <th>job_state</th>\n",
       "      <th>age</th>\n",
       "      <th>python_yn</th>\n",
       "      <th>excel</th>\n",
       "    </tr>\n",
       "  </thead>\n",
       "  <tbody>\n",
       "    <tr>\n",
       "      <th>0</th>\n",
       "      <td>0</td>\n",
       "      <td>Sr Data Scientist</td>\n",
       "      <td>$137K-$171K (Glassdoor est.)</td>\n",
       "      <td>Description\\n\\nThe Senior Data Scientist is re...</td>\n",
       "      <td>3.1</td>\n",
       "      <td>Healthfirst\\n3.1</td>\n",
       "      <td>New York, NY</td>\n",
       "      <td>New York, NY</td>\n",
       "      <td>1001 to 5000 employees</td>\n",
       "      <td>1993</td>\n",
       "      <td>...</td>\n",
       "      <td>NaN</td>\n",
       "      <td>EmblemHealth, UnitedHealth Group, Aetna</td>\n",
       "      <td>137</td>\n",
       "      <td>171</td>\n",
       "      <td>154</td>\n",
       "      <td>Healthfirst</td>\n",
       "      <td>NY</td>\n",
       "      <td>None</td>\n",
       "      <td>0</td>\n",
       "      <td>0</td>\n",
       "    </tr>\n",
       "    <tr>\n",
       "      <th>1</th>\n",
       "      <td>1</td>\n",
       "      <td>Data Scientist</td>\n",
       "      <td>$137K-$171K (Glassdoor est.)</td>\n",
       "      <td>Secure our Nation, Ignite your Future\\n\\nJoin ...</td>\n",
       "      <td>4.2</td>\n",
       "      <td>ManTech\\n4.2</td>\n",
       "      <td>Chantilly, VA</td>\n",
       "      <td>Herndon, VA</td>\n",
       "      <td>5001 to 10000 employees</td>\n",
       "      <td>1968</td>\n",
       "      <td>...</td>\n",
       "      <td>NaN</td>\n",
       "      <td>$100 to $500 million (USD)</td>\n",
       "      <td>137</td>\n",
       "      <td>171</td>\n",
       "      <td>154</td>\n",
       "      <td>ManTech</td>\n",
       "      <td>VA</td>\n",
       "      <td>None</td>\n",
       "      <td>0</td>\n",
       "      <td>0</td>\n",
       "    </tr>\n",
       "    <tr>\n",
       "      <th>2</th>\n",
       "      <td>2</td>\n",
       "      <td>Data Scientist</td>\n",
       "      <td>$137K-$171K (Glassdoor est.)</td>\n",
       "      <td>Overview\\n\\n\\nAnalysis Group is one of the lar...</td>\n",
       "      <td>3.8</td>\n",
       "      <td>Analysis Group\\n3.8</td>\n",
       "      <td>Boston, MA</td>\n",
       "      <td>Boston, MA</td>\n",
       "      <td>1001 to 5000 employees</td>\n",
       "      <td>1981</td>\n",
       "      <td>...</td>\n",
       "      <td>NaN</td>\n",
       "      <td>$100 to $500 million (USD)</td>\n",
       "      <td>137</td>\n",
       "      <td>171</td>\n",
       "      <td>154</td>\n",
       "      <td>Analysis Group</td>\n",
       "      <td>MA</td>\n",
       "      <td>None</td>\n",
       "      <td>1</td>\n",
       "      <td>1</td>\n",
       "    </tr>\n",
       "    <tr>\n",
       "      <th>3</th>\n",
       "      <td>3</td>\n",
       "      <td>Data Scientist</td>\n",
       "      <td>$137K-$171K (Glassdoor est.)</td>\n",
       "      <td>JOB DESCRIPTION:\\n\\nDo you have a passion for ...</td>\n",
       "      <td>3.5</td>\n",
       "      <td>INFICON\\n3.5</td>\n",
       "      <td>Newton, MA</td>\n",
       "      <td>Bad Ragaz, Switzerland</td>\n",
       "      <td>501 to 1000 employees</td>\n",
       "      <td>2000</td>\n",
       "      <td>...</td>\n",
       "      <td>NaN</td>\n",
       "      <td>MKS Instruments, Pfeiffer Vacuum, Agilent Tech...</td>\n",
       "      <td>137</td>\n",
       "      <td>171</td>\n",
       "      <td>154</td>\n",
       "      <td>INFICON</td>\n",
       "      <td>MA</td>\n",
       "      <td>None</td>\n",
       "      <td>1</td>\n",
       "      <td>1</td>\n",
       "    </tr>\n",
       "    <tr>\n",
       "      <th>4</th>\n",
       "      <td>4</td>\n",
       "      <td>Data Scientist</td>\n",
       "      <td>$137K-$171K (Glassdoor est.)</td>\n",
       "      <td>Data Scientist\\nAffinity Solutions / Marketing...</td>\n",
       "      <td>2.9</td>\n",
       "      <td>Affinity Solutions\\n2.9</td>\n",
       "      <td>New York, NY</td>\n",
       "      <td>New York, NY</td>\n",
       "      <td>51 to 200 employees</td>\n",
       "      <td>1998</td>\n",
       "      <td>...</td>\n",
       "      <td>NaN</td>\n",
       "      <td>Commerce Signals, Cardlytics, Yodlee</td>\n",
       "      <td>137</td>\n",
       "      <td>171</td>\n",
       "      <td>154</td>\n",
       "      <td>Affinity Solutions</td>\n",
       "      <td>NY</td>\n",
       "      <td>None</td>\n",
       "      <td>1</td>\n",
       "      <td>1</td>\n",
       "    </tr>\n",
       "  </tbody>\n",
       "</table>\n",
       "<p>5 rows × 23 columns</p>\n",
       "</div>"
      ],
      "text/plain": [
       "   index          Job Title               Salary Estimate  \\\n",
       "0      0  Sr Data Scientist  $137K-$171K (Glassdoor est.)   \n",
       "1      1     Data Scientist  $137K-$171K (Glassdoor est.)   \n",
       "2      2     Data Scientist  $137K-$171K (Glassdoor est.)   \n",
       "3      3     Data Scientist  $137K-$171K (Glassdoor est.)   \n",
       "4      4     Data Scientist  $137K-$171K (Glassdoor est.)   \n",
       "\n",
       "                                     Job Description  Rating  \\\n",
       "0  Description\\n\\nThe Senior Data Scientist is re...     3.1   \n",
       "1  Secure our Nation, Ignite your Future\\n\\nJoin ...     4.2   \n",
       "2  Overview\\n\\n\\nAnalysis Group is one of the lar...     3.8   \n",
       "3  JOB DESCRIPTION:\\n\\nDo you have a passion for ...     3.5   \n",
       "4  Data Scientist\\nAffinity Solutions / Marketing...     2.9   \n",
       "\n",
       "              Company Name       Location            Headquarters  \\\n",
       "0         Healthfirst\\n3.1   New York, NY            New York, NY   \n",
       "1             ManTech\\n4.2  Chantilly, VA             Herndon, VA   \n",
       "2      Analysis Group\\n3.8     Boston, MA              Boston, MA   \n",
       "3             INFICON\\n3.5     Newton, MA  Bad Ragaz, Switzerland   \n",
       "4  Affinity Solutions\\n2.9   New York, NY            New York, NY   \n",
       "\n",
       "                      Size Founded  ... Revenue  \\\n",
       "0   1001 to 5000 employees    1993  ...     NaN   \n",
       "1  5001 to 10000 employees    1968  ...     NaN   \n",
       "2   1001 to 5000 employees    1981  ...     NaN   \n",
       "3    501 to 1000 employees    2000  ...     NaN   \n",
       "4      51 to 200 employees    1998  ...     NaN   \n",
       "\n",
       "                                         Competitors min_salary  max_salary  \\\n",
       "0            EmblemHealth, UnitedHealth Group, Aetna        137         171   \n",
       "1                         $100 to $500 million (USD)        137         171   \n",
       "2                         $100 to $500 million (USD)        137         171   \n",
       "3  MKS Instruments, Pfeiffer Vacuum, Agilent Tech...        137         171   \n",
       "4               Commerce Signals, Cardlytics, Yodlee        137         171   \n",
       "\n",
       "  avg_salary         company_txt  job_state   age python_yn excel  \n",
       "0        154         Healthfirst         NY  None         0     0  \n",
       "1        154             ManTech         VA  None         0     0  \n",
       "2        154      Analysis Group         MA  None         1     1  \n",
       "3        154             INFICON         MA  None         1     1  \n",
       "4        154  Affinity Solutions         NY  None         1     1  \n",
       "\n",
       "[5 rows x 23 columns]"
      ]
     },
     "execution_count": 62,
     "metadata": {},
     "output_type": "execute_result"
    }
   ],
   "source": [
    "data.head()"
   ]
  },
  {
   "cell_type": "code",
   "execution_count": 63,
   "id": "d103a91f",
   "metadata": {},
   "outputs": [
    {
     "data": {
      "text/plain": [
       "Index(['index', 'Job Title', 'Salary Estimate', 'Job Description', 'Rating',\n",
       "       'Company Name', 'Location', 'Headquarters', 'Size', 'Founded',\n",
       "       'Type of ownership', 'Industry', 'Sector', 'Revenue', 'Competitors',\n",
       "       'min_salary', 'max_salary', 'avg_salary', 'company_txt', 'job_state',\n",
       "       'age', 'python_yn', 'excel'],\n",
       "      dtype='object')"
      ]
     },
     "execution_count": 63,
     "metadata": {},
     "output_type": "execute_result"
    }
   ],
   "source": [
    "data.columns"
   ]
  },
  {
   "cell_type": "markdown",
   "id": "ccaca9cb",
   "metadata": {},
   "source": [
    " Dropping the 'Unnamed: 0' column"
   ]
  },
  {
   "cell_type": "code",
   "execution_count": 64,
   "id": "a47ed7d8",
   "metadata": {},
   "outputs": [],
   "source": [
    "if 'Unnamed: 0' in data.columns:\n",
    "    data.drop('Unnamed: 0', axis=1, inplace=True)"
   ]
  },
  {
   "cell_type": "code",
   "execution_count": 65,
   "id": "9f0098c9",
   "metadata": {},
   "outputs": [
    {
     "data": {
      "text/plain": [
       "Index(['index', 'Job Title', 'Salary Estimate', 'Job Description', 'Rating',\n",
       "       'Company Name', 'Location', 'Headquarters', 'Size', 'Founded',\n",
       "       'Type of ownership', 'Industry', 'Sector', 'Revenue', 'Competitors',\n",
       "       'min_salary', 'max_salary', 'avg_salary', 'company_txt', 'job_state',\n",
       "       'age', 'python_yn', 'excel'],\n",
       "      dtype='object')"
      ]
     },
     "execution_count": 65,
     "metadata": {},
     "output_type": "execute_result"
    }
   ],
   "source": [
    "data.columns"
   ]
  },
  {
   "cell_type": "markdown",
   "id": "c95f22e5",
   "metadata": {},
   "source": [
    "Job description length"
   ]
  },
  {
   "cell_type": "code",
   "execution_count": 66,
   "id": "8c4c87a6",
   "metadata": {},
   "outputs": [
    {
     "data": {
      "text/plain": [
       "0      3437\n",
       "1      4100\n",
       "2      8935\n",
       "3      3349\n",
       "4      2743\n",
       "       ... \n",
       "667    3683\n",
       "668    1253\n",
       "669    2809\n",
       "670    3426\n",
       "671    3000\n",
       "Name: desc_len, Length: 672, dtype: int64"
      ]
     },
     "execution_count": 66,
     "metadata": {},
     "output_type": "execute_result"
    }
   ],
   "source": [
    "data['desc_len'] = data['Job Description'].apply(lambda x: len(x))\n",
    "data['desc_len']"
   ]
  },
  {
   "cell_type": "code",
   "execution_count": 67,
   "id": "0fbc2a8e",
   "metadata": {},
   "outputs": [
    {
     "data": {
      "text/plain": [
       "count                672\n",
       "unique               172\n",
       "top       Data Scientist\n",
       "freq                 337\n",
       "Name: Job Title, dtype: object"
      ]
     },
     "execution_count": 67,
     "metadata": {},
     "output_type": "execute_result"
    }
   ],
   "source": [
    "data[\"Job Title\"].describe()"
   ]
  },
  {
   "cell_type": "markdown",
   "id": "5ac351dd",
   "metadata": {},
   "source": [
    "Pie chart showing the top 5 job titles posted "
   ]
  },
  {
   "cell_type": "code",
   "execution_count": 68,
   "id": "e6cbe6a1",
   "metadata": {
    "scrolled": true
   },
   "outputs": [
    {
     "data": {
      "image/png": "[encoded data removed]",
      "text/plain": [
       "<Figure size 432x288 with 1 Axes>"
      ]
     },
     "metadata": {},
     "output_type": "display_data"
    }
   ],
   "source": [
    "frequencies = data['Job Title'].value_counts()\n",
    "top_5 = frequencies[:5]\n",
    "labels = top_5.index.tolist()\n",
    "values = top_5.values.tolist()\n",
    "plt.pie(values, labels=labels, autopct='%1.1f%%')\n",
    "plt.title('Top 5 Job Titles Posted')\n",
    "plt.axis('equal')\n",
    "plt.show()"
   ]
  },
  {
   "cell_type": "markdown",
   "id": "e3b2e41a",
   "metadata": {},
   "source": [
    "The above shows the top 5 distribution of job titles in the data science field, expressed as percentages of the total number of job postings in the dataset.\n",
    "The breakdown shows that Data Scientist are the most common job title in the dataset, accounting for 82.2% of all job postings. The next most common job titles are Data Engineer at 6.3%, Senior Data Scientist at 4.6%, Machine Learning Engineer at 3.9%, and Data Analyst at 2.9%."
   ]
  },
  {
   "cell_type": "markdown",
   "id": "7e4e10e0",
   "metadata": {},
   "source": [
    "Top industries hiring data scientists"
   ]
  },
  {
   "cell_type": "code",
   "execution_count": 102,
   "id": "59374d5c",
   "metadata": {},
   "outputs": [
    {
     "data": {
      "image/png": "[encoded data removed]",
      "text/plain": [
       "<Figure size 864x432 with 1 Axes>"
      ]
     },
     "metadata": {
      "needs_background": "light"
     },
     "output_type": "display_data"
    }
   ],
   "source": [
    "top_sectors = data['Sector'].value_counts().nlargest(5)\n",
    "colors = ['#5cb85c', '#5bc0de', '#d9534f', '#9b59b6', '#34495e'] # define colors\n",
    "plt.figure(figsize=(12,6))\n",
    "plt.bar(top_sectors.index, top_sectors.values, color=colors)\n",
    "plt.title('Top 5 Industry Sectors Hiring Data Scientists', fontsize=16)\n",
    "plt.xlabel('Industry Sector', fontsize=12)\n",
    "plt.ylabel('Frequency', fontsize=12)\n",
    "plt.xticks(rotation=90)\n",
    "for i, v in enumerate(top_sectors.values):\n",
    "    plt.text(i, v, str(v), color='black', fontweight='bold', ha='center')\n",
    "plt.show()"
   ]
  },
  {
   "cell_type": "markdown",
   "id": "6c648720",
   "metadata": {},
   "source": [
    "The industry sector with the highest number of job postings is IT Services, with a count of 132 job postings. The Biotech & Pharmaceuticals sector has the second highest number of job postings, with 66 job postings. The Computer Hardware & Software sector follows with 57 job postings, and the Aerospace & Defense sector with 46 job postings. Lastly, the Enterprise Software & Network Solutions sector has 43 job postings.\n",
    "This information can be useful for understanding the distribution of job postings by industry sector in the data science field, and for job seekers to identify the industries with the most opportunities in their field of interest."
   ]
  },
  {
   "cell_type": "markdown",
   "id": "91a1804c",
   "metadata": {},
   "source": [
    "Average Salaries for Data Scientists in Top 5 Industries"
   ]
  },
  {
   "cell_type": "code",
   "execution_count": 100,
   "id": "baa29c1d",
   "metadata": {},
   "outputs": [
    {
     "data": {
      "image/png": "[encoded data removed]",
      "text/plain": [
       "<Figure size 864x432 with 1 Axes>"
      ]
     },
     "metadata": {
      "needs_background": "light"
     },
     "output_type": "display_data"
    }
   ],
   "source": [
    "data_scientist = data[data['Job Title'].str.contains('Data Scientist', case=False)]\n",
    "industry_salaries = data_scientist.groupby('Industry')['avg_salary'].mean().sort_values(ascending=False)[:5]\n",
    "colors = ['purple', 'blue', 'green', 'orange', 'red']\n",
    "plt.figure(figsize=(12,6))\n",
    "plt.bar(industry_salaries.index, industry_salaries.values, color=colors)\n",
    "plt.title('Average Salaries for Data Scientists in Top 5 Industries', fontsize=16)\n",
    "plt.xlabel('Industry', fontsize=12)\n",
    "plt.ylabel('Average Salary ($)', fontsize=12)\n",
    "plt.xticks(rotation=90)\n",
    "\n",
    "# add values to bars\n",
    "for i, v in enumerate(industry_salaries.values):\n",
    "    plt.annotate(str(round(v, 2)), xy=(i, v), ha='center', va='bottom', color='black')\n",
    "\n",
    "plt.show()\n"
   ]
  },
  {
   "cell_type": "markdown",
   "id": "92b4a45f",
   "metadata": {},
   "source": [
    "The table shows the top 5 industries with the highest average salaries for job positions related to the data science field. The publishing industry has the highest average salary of 271.0 dollars, followed by the health, beauty, and fitness industry with an average salary of 203.5 dollars. The food and beverage stores industry, state and regional agencies, and hotels, motels, and resorts industry have the same average salary of 183.0 dollars."
   ]
  },
  {
   "cell_type": "markdown",
   "id": "c0b36af5",
   "metadata": {},
   "source": [
    "Top 5 Locations with the Most Job Opportunities for Data Scientists"
   ]
  },
  {
   "cell_type": "code",
   "execution_count": 97,
   "id": "925a5ea2",
   "metadata": {},
   "outputs": [
    {
     "data": {
      "image/png": "[encoded data removed]",
      "text/plain": [
       "<Figure size 864x432 with 1 Axes>"
      ]
     },
     "metadata": {
      "needs_background": "light"
     },
     "output_type": "display_data"
    }
   ],
   "source": [
    "top_locations = data_scientist['Location'].value_counts().nlargest(5)\n",
    "\n",
    "plt.figure(figsize=(12,6))\n",
    "bars = plt.bar(top_locations.index, top_locations.values, color=['#1f77b4', '#ff7f0e', '#2ca02c', '#d62728', '#9467bd'])\n",
    "plt.title('Top 5 Locations with Most Job Opportunities for Data Scientists', fontsize=16)\n",
    "plt.xlabel('Location', fontsize=12)\n",
    "plt.ylabel('Number of Job Opportunities', fontsize=12)\n",
    "plt.xticks(rotation=90)\n",
    "\n",
    "# add labels to the bars\n",
    "for i, bar in enumerate(bars):\n",
    "    plt.text(x=bar.get_x() + bar.get_width() / 2, y=bar.get_height() + 1, s=top_locations.values[i], ha='center', va='bottom')\n",
    "\n",
    "plt.show()\n"
   ]
  },
  {
   "cell_type": "markdown",
   "id": "d057ca67",
   "metadata": {},
   "source": [
    "This table shows the top 5 locations with the most job opportunities for Data Scientists, along with the number of job opportunities available in each location. San Francisco, CA has the highest number of job opportunities at 52, followed by New York, NY with 40 job opportunities. Washington, DC, Herndon, VA, and Chicago, IL round up the top 5 with 25, 15, and 14 job opportunities respectively."
   ]
  },
  {
   "cell_type": "code",
   "execution_count": null,
   "id": "8d302fae",
   "metadata": {},
   "outputs": [],
   "source": [
    "Skill Analysis for Data Scientists"
   ]
  },
  {
   "cell_type": "code",
   "execution_count": 96,
   "id": "21c6a65b",
   "metadata": {},
   "outputs": [
    {
     "data": {
      "image/png": "[encoded data removed]",
      "text/plain": [
       "<Figure size 864x432 with 1 Axes>"
      ]
     },
     "metadata": {
      "needs_background": "light"
     },
     "output_type": "display_data"
    }
   ],
   "source": [
    "# create a list of required skills and qualifications\n",
    "required_skills = [\n",
    "    'python', 'r', 'sql', 'excel', 'statistics',\n",
    "]\n",
    "\n",
    "# define a list of colors for each skill\n",
    "colors = ['b', 'g', 'r', 'c', 'm']\n",
    "\n",
    "# create a function to count the number of times each skill appears in the job description\n",
    "def count_skills(description, skills):\n",
    "    counts = {skill: 0 for skill in skills}\n",
    "    for word in description.split():\n",
    "        word = word.lower()\n",
    "        if word in counts:\n",
    "            counts[word] += 1\n",
    "    return counts\n",
    "\n",
    "# apply the count_skills function to each job description\n",
    "skill_counts = data_scientist['Job Description'].apply(lambda x: count_skills(x, required_skills))\n",
    "\n",
    "# create a dataframe to store the skill counts for each job\n",
    "skill_counts_df = pd.DataFrame(list(skill_counts))\n",
    "\n",
    "# sum the counts for each skill across all jobs\n",
    "total_skill_counts = skill_counts_df.sum().sort_values(ascending=False)\n",
    "\n",
    "# plot the top 10 skills\n",
    "plt.figure(figsize=(12,6))\n",
    "bars = plt.bar(total_skill_counts[:10].index, total_skill_counts[:10].values, color=colors)\n",
    "plt.title('Most Required Skills for Data Scientist Jobs', fontsize=16)\n",
    "plt.xlabel('Skill', fontsize=12)\n",
    "plt.ylabel('Frequency', fontsize=12)\n",
    "plt.xticks(rotation=90)\n",
    "\n",
    "# add the values to the chart\n",
    "for bar in bars:\n",
    "    height = bar.get_height()\n",
    "    plt.text(bar.get_x() + bar.get_width() / 2, height, int(height), ha='center', va='bottom')\n",
    "\n",
    "plt.show()\n"
   ]
  },
  {
   "cell_type": "markdown",
   "id": "20d7d35e",
   "metadata": {},
   "source": [
    "The top 5 required skills are Python, SQL, Statistics, R, and Excel. The frequency of each skill is also given, with Python being the most required skill with a frequency of 216, followed by SQL with a frequency of 133."
   ]
  },
  {
   "cell_type": "markdown",
   "id": "090da5ab",
   "metadata": {},
   "source": [
    "Top 5 Most Common Job Titles for Data Scientists"
   ]
  },
  {
   "cell_type": "code",
   "execution_count": 103,
   "id": "16281101",
   "metadata": {},
   "outputs": [
    {
     "data": {
      "image/png": "[encoded data removed]",
      "text/plain": [
       "<Figure size 864x432 with 1 Axes>"
      ]
     },
     "metadata": {
      "needs_background": "light"
     },
     "output_type": "display_data"
    }
   ],
   "source": [
    "# create a list of colors for each job title\n",
    "colors = ['b', 'g', 'r', 'c', 'm']\n",
    "\n",
    "# get the top 5 most common job titles for data scientists\n",
    "data_scientist_titles = data[data['Job Title'].str.contains('Data Scientist', case=False)]\n",
    "job_titles = data_scientist_titles['Job Title'].value_counts().nlargest(5)\n",
    "\n",
    "# plot the top 5 job titles with different colors\n",
    "plt.figure(figsize=(12,6))\n",
    "bars = plt.bar(job_titles.index, job_titles.values, color=colors)\n",
    "plt.title('Most Common Job Titles for Data Scientists', fontsize=16)\n",
    "plt.xlabel('Job Title', fontsize=12)\n",
    "plt.ylabel('Frequency', fontsize=12)\n",
    "plt.xticks(rotation=90)\n",
    "\n",
    "# add the values to the chart\n",
    "for bar in bars:\n",
    "    height = bar.get_height()\n",
    "    plt.text(bar.get_x() + bar.get_width() / 2, height, int(height), ha='center', va='bottom')\n",
    "\n",
    "plt.show()\n"
   ]
  },
  {
   "cell_type": "markdown",
   "id": "ffaa9f60",
   "metadata": {},
   "source": [
    "The bar chart above displays the top five most common job titles for data scientists and the frequency of each job title. The most common job title is \"Data Scientist\" with a frequency of 337, followed by \"Senior Data Scientist\" with a frequency of 19. \"Data Scientist - TS/SCI FSP or CI Required\" has a frequency of 4, while \"Principal Data Scientist\" and \"AI Ops Data Scientist\" both have a frequency of 3."
   ]
  },
  {
   "cell_type": "markdown",
   "id": "cf650c49",
   "metadata": {},
   "source": [
    "Bar Plot of the Most In-Demand Programming Languages for Data Science"
   ]
  },
  {
   "cell_type": "code",
   "execution_count": 105,
   "id": "5c7bad37",
   "metadata": {},
   "outputs": [
    {
     "data": {
      "image/png": "[encoded data removed]",
      "text/plain": [
       "<Figure size 576x432 with 1 Axes>"
      ]
     },
     "metadata": {
      "needs_background": "light"
     },
     "output_type": "display_data"
    }
   ],
   "source": [
    "# Create an empty dictionary to store language frequencies\n",
    "language_freq = {}\n",
    "\n",
    "# Iterate through each job description\n",
    "for desc in data['Job Description']:\n",
    "    # Split the text into individual words\n",
    "    words = desc.lower().split()\n",
    "    # Iterate through each programming language\n",
    "    for lang in ['python', 'r', 'sql', 'java', 'c++', 'javascript']:\n",
    "        # If the language is mentioned in the job description, increment its frequency count\n",
    "        if lang in words:\n",
    "            if lang not in language_freq:\n",
    "                language_freq[lang] = 1\n",
    "            else:\n",
    "                language_freq[lang] += 1\n",
    "\n",
    "# Sort the language frequencies in descending order and get the top 5 languages\n",
    "sorted_langs = sorted(language_freq.items(), key=lambda x: x[1], reverse=True)[:5]\n",
    "\n",
    "# Define colors for the bar plot\n",
    "colors = ['#1F77B4', '#FF7F0E', '#2CA02C', '#D62728', '#9467BD']\n",
    "\n",
    "# Create a bar plot of the top 5 language frequencies\n",
    "plt.figure(figsize=(8,6))\n",
    "bars = plt.bar([x[0] for x in sorted_langs], [x[1] for x in sorted_langs], color=colors)\n",
    "plt.title('Most In-Demand Programming Languages for Data Science', fontsize=16)\n",
    "plt.xlabel('Programming Language', fontsize=12)\n",
    "plt.ylabel('Number of Job Postings', fontsize=12)\n",
    "\n",
    "# Add values to the bars\n",
    "for bar in bars:\n",
    "    height = bar.get_height()\n",
    "    plt.text(bar.get_x() + bar.get_width() / 2, height, int(height), ha='center', va='bottom')\n",
    "\n",
    "plt.show()\n"
   ]
  },
  {
   "cell_type": "markdown",
   "id": "8219790b",
   "metadata": {},
   "source": [
    "The bar chart above displays the top five most in demand programming language. The top most in demand programming language from the data is \"python\", followed by \"sql\". \"c++\" found to be the least in demand programming languages."
   ]
  },
  {
   "cell_type": "markdown",
   "id": "d57f0498",
   "metadata": {},
   "source": [
    "Top companies hiring data scientists"
   ]
  },
  {
   "cell_type": "code",
   "execution_count": 107,
   "id": "8850579d",
   "metadata": {},
   "outputs": [
    {
     "name": "stdout",
     "output_type": "stream",
     "text": [
      "Top 5 Companies Hiring Data Scientists:\n",
      "1. Maxar Technologies\n",
      "3.5 (12 job postings)\n",
      "2. Hatch Data Inc (12 job postings)\n",
      "3. Tempus Labs\n",
      "3.3 (11 job postings)\n",
      "4. AstraZeneca\n",
      "4.0 (10 job postings)\n",
      "5. Klaviyo\n",
      "4.8 (8 job postings)\n"
     ]
    },
    {
     "data": {
      "image/png": "[encoded data removed]",
      "text/plain": [
       "<Figure size 576x432 with 1 Axes>"
      ]
     },
     "metadata": {
      "needs_background": "light"
     },
     "output_type": "display_data"
    }
   ],
   "source": [
    "# Create an empty dictionary to store company frequencies\n",
    "company_freq = {}\n",
    "\n",
    "# Iterate through each job posting and count the number of postings for each company\n",
    "for posting in data['Company Name']:\n",
    "    company_freq[posting] = company_freq.get(posting, 0) + 1\n",
    "\n",
    "# Sort the companies in descending order by the number of job postings and get the top 5\n",
    "sorted_companies = sorted(company_freq.items(), key=lambda x: x[1], reverse=True)[:5]\n",
    "\n",
    "# Print the top 5 companies and their job posting counts\n",
    "print('Top 5 Companies Hiring Data Scientists:')\n",
    "for i, (company, freq) in enumerate(sorted_companies):\n",
    "    print(f\"{i+1}. {company} ({freq} job postings)\")\n",
    "\n",
    "# Define colors for the bar plot\n",
    "colors = ['#1f77b4', '#ff7f0e', '#2ca02c', '#d62728', '#9467bd']\n",
    "\n",
    "# Create a bar plot of the top 5 companies and their job posting counts\n",
    "plt.figure(figsize=(8,6))\n",
    "bars = plt.bar([x[0] for x in sorted_companies], [x[1] for x in sorted_companies], color=colors)\n",
    "plt.title('Top Companies Hiring Data Scientists', fontsize=16)\n",
    "plt.xlabel('Company Name', fontsize=12)\n",
    "plt.ylabel('Number of Job Postings', fontsize=12)\n",
    "plt.xticks(rotation=45, ha='right')\n",
    "\n",
    "# Add values to the bars\n",
    "for bar in bars:\n",
    "    height = bar.get_height()\n",
    "    plt.text(bar.get_x() + bar.get_width() / 2, height, int(height), ha='center', va='bottom')\n",
    "\n",
    "plt.show()\n"
   ]
  },
  {
   "cell_type": "markdown",
   "id": "484b636f",
   "metadata": {},
   "source": [
    "The data shows that Maxar Technologies and Hatch Data Inc are tied for the most job postings, with 12 each. Tempus Labs is close behind with 11 job postings, followed by AstraZeneca with 10 job postings. Klaviyo has the fifth highest number of job postings, with 8. The data suggests that these companies are actively seeking data scientists and could be good places to look for job opportunities in this field. Additionally, the ratings provided for some of these companies (3.5 for Maxar Technologies, 3.3 for Tempus Labs, and 4.8 for Klaviyo) could indicate that they are well-regarded by their employees and could potentially be good places to work."
   ]
  },
  {
   "cell_type": "markdown",
   "id": "dfc445f6",
   "metadata": {},
   "source": [
    "Data Science Insights: Skill Frequencies, Top Industries, & Average Salaries"
   ]
  },
  {
   "cell_type": "code",
   "execution_count": 110,
   "id": "3b1c2b3b",
   "metadata": {},
   "outputs": [
    {
     "data": {
      "image/png": "[encoded data removed]",
      "text/plain": [
       "<Figure size 576x432 with 1 Axes>"
      ]
     },
     "metadata": {
      "needs_background": "light"
     },
     "output_type": "display_data"
    },
    {
     "data": {
      "image/png": "[encoded data removed]",
      "text/plain": [
       "<Figure size 576x432 with 1 Axes>"
      ]
     },
     "metadata": {
      "needs_background": "light"
     },
     "output_type": "display_data"
    }
   ],
   "source": [
    "# Calculate the frequency of Python and Excel\n",
    "python_freq = data['python_yn'].sum()\n",
    "excel_freq = data['excel'].sum()\n",
    "\n",
    "# Plot the skill frequencies\n",
    "plt.figure(figsize=(8,6))\n",
    "plt.bar(['Python', 'Excel'], [python_freq, excel_freq], color=['#1F77B4', '#FF7F0E'])\n",
    "plt.title('Most Important Data Science Skills', fontsize=16)\n",
    "plt.xlabel('Skill', fontsize=12)\n",
    "plt.ylabel('Frequency', fontsize=12)\n",
    "\n",
    "# Add bar values to the chart\n",
    "for i, v in enumerate([python_freq, excel_freq]):\n",
    "    plt.text(i, v + 0.5, str(v), color='black', ha='center', fontweight='bold')\n",
    "\n",
    "plt.show()\n",
    "\n",
    "# Calculate the frequency of each industry\n",
    "industry_freq = data['Industry'].value_counts().head(5)\n",
    "\n",
    "# Plot the industry frequencies\n",
    "colors = ['#2CA02C', '#FFBB78', '#7F7F7F', '#9467BD', '#8C564B']\n",
    "plt.figure(figsize=(8,6))\n",
    "plt.bar(industry_freq.index, industry_freq.values, color=colors)\n",
    "plt.title('Top Data Science Industries', fontsize=16)\n",
    "plt.xlabel('Industry', fontsize=12)\n",
    "plt.ylabel('Frequency', fontsize=12)\n",
    "plt.xticks(rotation=45, ha='right')\n",
    "\n",
    "# Add bar values to the chart\n",
    "for i, v in enumerate(industry_freq.values):\n",
    "    plt.text(i, v + 0.5, str(v), color='black', ha='center', fontweight='bold')\n",
    "\n",
    "plt.show()\n"
   ]
  },
  {
   "cell_type": "markdown",
   "id": "62cde6ef",
   "metadata": {},
   "source": [
    "Average Salary of Top 5 Job Titles."
   ]
  },
  {
   "cell_type": "code",
   "execution_count": 119,
   "id": "edd2b677",
   "metadata": {
    "scrolled": true
   },
   "outputs": [
    {
     "name": "stdout",
     "output_type": "stream",
     "text": [
      "                   Job Title  Average Salary\n",
      "0               Data Analyst      118.583333\n",
      "1              Data Engineer      114.000000\n",
      "2             Data Scientist      125.842730\n",
      "3  Machine Learning Engineer      106.750000\n",
      "4      Senior Data Scientist      130.842105\n"
     ]
    }
   ],
   "source": [
    "\n",
    "top_5_jobs = data['Job Title'].value_counts().head().index.tolist()\n",
    "data_top_5_jobs = data[data['Job Title'].isin(top_5_jobs)]\n",
    "\n",
    "avg_salary = data_top_5_jobs.groupby('Job Title')['avg_salary'].mean()\n",
    "\n",
    "table_data = {'Job Title': avg_salary.index,\n",
    "              'Average Salary': avg_salary.values}\n",
    "\n",
    "df = pd.DataFrame(table_data)\n",
    "\n",
    "print(df)"
   ]
  },
  {
   "cell_type": "code",
   "execution_count": 78,
   "id": "b9df27bc",
   "metadata": {
    "scrolled": false
   },
   "outputs": [
    {
     "data": {
      "image/png": "[encoded data removed]",
      "text/plain": [
       "<Figure size 1080x720 with 1 Axes>"
      ]
     },
     "metadata": {
      "needs_background": "light"
     },
     "output_type": "display_data"
    }
   ],
   "source": [
    "top_5_jobs = data['Job Title'].value_counts().head().index.tolist()\n",
    "data_top_5_jobs = data[data['Job Title'].isin(top_5_jobs)]\n",
    "fig, ax = plt.subplots(figsize=(15, 10))\n",
    "avg_salary = data_top_5_jobs.groupby('Job Title')['avg_salary'].mean()\n",
    "colors = ['r', 'g', 'b', 'c', 'm']\n",
    "plt.bar(avg_salary.index, avg_salary.values, color=colors)\n",
    "plt.title('Average Salary of the Top 5 Job Titles')\n",
    "plt.xlabel('Job Title')\n",
    "plt.ylabel('Average Salary')\n",
    "plt.show()"
   ]
  },
  {
   "cell_type": "markdown",
   "id": "05bebd63",
   "metadata": {},
   "source": [
    "The  presents the average salaries of the top 5 job titles: Data Analyst, Data Engineer, Data Scientist, Machine Learning Engineer, and Senior Data Scientist.\n",
    "The average salary for a Data Analyst is 118.58, while for a Data Engineer is 114.00. The average salary for a Data Scientist is 125.84, which is the highest among the top 5 job titles. The average salary for a Machine Learning Engineer is 106.75, while for a Senior Data Scientist is 130.84, which is the second highest among the top 5 job titles."
   ]
  },
  {
   "cell_type": "markdown",
   "id": "2786460a",
   "metadata": {},
   "source": [
    "Top 5 Locations by Frequency of Job Posting"
   ]
  },
  {
   "cell_type": "code",
   "execution_count": 130,
   "id": "3c7a7504",
   "metadata": {
    "scrolled": true
   },
   "outputs": [
    {
     "data": {
      "image/png": "[encoded data removed]",
      "text/plain": [
       "<Figure size 720x432 with 1 Axes>"
      ]
     },
     "metadata": {
      "needs_background": "light"
     },
     "output_type": "display_data"
    }
   ],
   "source": [
    "top_locations = data['Location'].value_counts().head(5)\n",
    "\n",
    "labels = top_locations.index.tolist()\n",
    "values = top_locations.values.tolist()\n",
    "\n",
    "fig, ax = plt.subplots(figsize=(10, 6))\n",
    "ax.bar(labels, values, color=['#003f5c', '#58508d', '#bc5090', '#ff6361', '#ffa600'])\n",
    "ax.set_title('Top 5 Locations by Frequency of Job Postings')\n",
    "ax.set_xlabel('Location')\n",
    "ax.set_ylabel('Frequency')\n",
    "ax.spines['top'].set_visible(False)\n",
    "ax.spines['right'].set_visible(False)\n",
    "\n",
    "for i, v in enumerate(values):\n",
    "    ax.text(i, v+1, str(v), horizontalalignment='center')\n",
    "\n",
    "plt.show()\n"
   ]
  },
  {
   "cell_type": "markdown",
   "id": "06253da8",
   "metadata": {},
   "source": [
    "The chart provides a list of the top 5 locations with the highest frequency of job postings. San Francisco, CA has the highest number of job postings with a frequency of 69, followed by New York, NY with 50 job postings. Washington, DC, Boston, MA, and Chicago, IL round out the top 5 with 26, 24, and 22 job postings respectively. This information can be useful for job seekers who are looking to relocate or for companies who are looking to expand their operations to these areas."
   ]
  },
  {
   "cell_type": "markdown",
   "id": "78b8657c",
   "metadata": {},
   "source": [
    "Top 5 Locations by Average Salary"
   ]
  },
  {
   "cell_type": "code",
   "execution_count": 127,
   "id": "f3e919d7",
   "metadata": {},
   "outputs": [
    {
     "data": {
      "image/png": "[encoded data removed]",
      "text/plain": [
       "<Figure size 720x432 with 1 Axes>"
      ]
     },
     "metadata": {
      "needs_background": "light"
     },
     "output_type": "display_data"
    }
   ],
   "source": [
    "avg_salary_by_location = data.groupby('Location')['avg_salary'].mean().reset_index()\n",
    "avg_salary_by_location = avg_salary_by_location.sort_values(by='avg_salary', ascending=False)\n",
    "top_5_locations = avg_salary_by_location.head(5)\n",
    "\n",
    "fig, ax = plt.subplots(figsize=(10, 6))\n",
    "ax.bar(top_5_locations['Location'], top_5_locations['avg_salary'], color=['#4CAF50', '#FFC107', '#9C27B0', '#2196F3', '#F44336'])\n",
    "ax.set_title('Top 5 Locations by Average Salary')\n",
    "ax.set_xlabel('Location')\n",
    "ax.set_ylabel('Average Salary')\n",
    "ax.spines['top'].set_visible(False)\n",
    "ax.spines['right'].set_visible(False)\n",
    "\n",
    "for i, v in enumerate(top_5_locations['avg_salary']):\n",
    "    ax.text(i, v+1, str(round(v,2)), horizontalalignment='center')\n",
    "\n",
    "plt.show()\n"
   ]
  },
  {
   "cell_type": "markdown",
   "id": "7c787c7a",
   "metadata": {},
   "source": [
    "The bar chart shows the top 5 locations with the highest average salaries based on a dataset. The first column displays the location name and the second column displays the average salary for that location. The table is sorted in descending order based on the average salary. The top three locations, Pleasanton, CA, Fort Sam Houston, TX, and Wilmington, DE, have the same average salary of 271. The next two locations, Lexington Park, MD, and Dayton, OH, have average salaries of 203.5 and 193, respectively."
   ]
  },
  {
   "cell_type": "markdown",
   "id": "334032fc",
   "metadata": {},
   "source": [
    "Correlation between Job Location and Required Skills"
   ]
  },
  {
   "cell_type": "code",
   "execution_count": 79,
   "id": "bc41b302",
   "metadata": {
    "scrolled": false
   },
   "outputs": [
    {
     "data": {
      "image/png": "[encoded data removed]",
      "text/plain": [
       "<Figure size 720x576 with 2 Axes>"
      ]
     },
     "metadata": {
      "needs_background": "light"
     },
     "output_type": "display_data"
    }
   ],
   "source": [
    "# select columns of interest\n",
    "cols = ['Location', 'python_yn', 'excel']\n",
    "\n",
    "# create a subset of the data with the selected columns\n",
    "subset = data[cols]\n",
    "\n",
    "# create a correlation matrix\n",
    "corr = subset.corr()\n",
    "\n",
    "# plot a heatmap\n",
    "plt.figure(figsize=(10, 8))\n",
    "sns.heatmap(corr, cmap='coolwarm', annot=True, fmt='.2f')\n",
    "plt.title('Correlation between Job Location and Required Skills', fontsize=16)\n",
    "plt.show()"
   ]
  },
  {
   "cell_type": "markdown",
   "id": "ee2818d3",
   "metadata": {},
   "source": [
    "A correlation of 0.03 between job location and required skills suggests a weak positive correlation, meaning there is a weak positive relationship between the two variables. However, the correlation is not strong enough to suggest a significant relationship between the two variables. In other words, job location and required skills are not strongly related to each other."
   ]
  },
  {
   "cell_type": "markdown",
   "id": "9ec5eff7",
   "metadata": {},
   "source": [
    "Comparison of salaries for jobs that require knowledge of Python and those that do not"
   ]
  },
  {
   "cell_type": "code",
   "execution_count": 121,
   "id": "983d50f5",
   "metadata": {
    "scrolled": true
   },
   "outputs": [
    {
     "name": "stdout",
     "output_type": "stream",
     "text": [
      "t-statistic: 0.3023206633492771\n",
      "p-value: 0.7625014536090959\n"
     ]
    }
   ],
   "source": [
    "# Extract the salaries for jobs that require knowledge of Python\n",
    "python_salaries = data[data['python_yn'] == 1]['avg_salary']\n",
    "\n",
    "# Extract the salaries for jobs that do not require knowledge of Python\n",
    "non_python_salaries = data[data['python_yn'] == 0]['avg_salary']\n",
    "\n",
    "# Calculate the t-statistic\n",
    "t_statistic = np.abs(np.mean(python_salaries) - np.mean(non_python_salaries)) / np.sqrt(np.var(python_salaries, ddof=1)/len(python_salaries) + np.var(non_python_salaries, ddof=1)/len(non_python_salaries))\n",
    "\n",
    "# Calculate the degrees of freedom\n",
    "degrees_of_freedom = len(python_salaries) + len(non_python_salaries) - 2\n",
    "\n",
    "# Calculate the p-value using a two-sided t-test\n",
    "p_value = (1 - stats.t.cdf(abs(t_statistic), degrees_of_freedom)) * 2\n",
    "\n",
    "# Print the results\n",
    "print(f\"t-statistic: {t_statistic}\")\n",
    "print(f\"p-value: {p_value}\")\n",
    "\n"
   ]
  },
  {
   "cell_type": "markdown",
   "id": "2a2a8a4b",
   "metadata": {},
   "source": [
    "A t-statistic of 0.302 with a p-value of 0.763 suggests that the difference in average salaries between those who know Python and those who don't is not statistically significant. In other words, there is not enough evidence to conclude that knowing Python has a significant impact on the average salary of data scientists."
   ]
  },
  {
   "cell_type": "markdown",
   "id": "c0518697",
   "metadata": {},
   "source": [
    "Conclusion \n",
    "\n",
    "Based on the analysis, it can be deduce that Data Scientists are the most common job title in the data science field, followed by Data Engineer, Senior Data Scientist, Machine Learning Engineer, and Data Analyst.IT Services sector has the highest number of job postings, and San Francisco, CA has the highest number of job opportunities for Data Scientists. Also,the most in-demand skills for data scientists are Python, SQL, Statistics, R, and Excel.\n",
    "The average salary for a Data Scientist is the highest among the top 5 job titles, and the publishing industry has the highest average salary for job positions related to the data science field. Companies like Maxar Technologies, Hatch Data Inc, and Tempus Labs have the highest number of job postings and are potentially good places to look for job opportunities.\n",
    "While there is a weak positive correlation between job location and required skills, the difference in average salaries between those who know Python and those who don't is not statistically significant."
   ]
  },
  {
   "cell_type": "markdown",
   "id": "04d97cca",
   "metadata": {},
   "source": [
    "Recommendations\n",
    "\n",
    "Based on these findings, it is recommended that job seekers in the data science field focus on developing their skills in Python, SQL, Statistics, R, and Excel to improve their chances of finding a jobs in the field.Moreover job seekers should explore opportunities in the IT Services, Biotech & Pharmaceuticals, Computer Hardware & Software, Aerospace & Defense, and Enterprise Software & Network Solutions sectors. They should also consider locations like San Francisco, New York, and Washington, for the highest number of job opportunities and Pleasanton, CA, Fort Sam Houston, TX, and Wilmington, DE for the highest average salaries."
   ]
  }
 ],
 "metadata": {
  "kernelspec": {
   "display_name": "Python 3 (ipykernel)",
   "language": "python",
   "name": "python3"
  },
  "language_info": {
   "codemirror_mode": {
    "name": "ipython",
    "version": 3
   },
   "file_extension": ".py",
   "mimetype": "text/x-python",
   "name": "python",
   "nbconvert_exporter": "python",
   "pygments_lexer": "ipython3",
   "version": "3.9.12"
  }
 },
 "nbformat": 4,
 "nbformat_minor": 5
}
